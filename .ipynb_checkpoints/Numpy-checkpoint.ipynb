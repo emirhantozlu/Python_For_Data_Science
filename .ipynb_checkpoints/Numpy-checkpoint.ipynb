{
 "cells": [
  {
   "cell_type": "markdown",
   "id": "f8fd7311-f589-45f1-b8cb-d4731675eba4",
   "metadata": {},
   "source": [
    "# Python İle Veri Analizi: Numpy"
   ]
  },
  {
   "cell_type": "code",
   "execution_count": 1,
   "id": "45e26074-c381-4fde-979a-410113402a18",
   "metadata": {},
   "outputs": [],
   "source": [
    "import numpy as np"
   ]
  },
  {
   "cell_type": "markdown",
   "id": "2cca2c42-0678-4dd9-b4dc-0bc344f86a78",
   "metadata": {},
   "source": [
    "## Neden Numpy?"
   ]
  },
  {
   "cell_type": "code",
   "execution_count": 2,
   "id": "a2573dc5-9458-437d-827c-eec3431c4b21",
   "metadata": {},
   "outputs": [],
   "source": [
    "# hızlı ve vektörel yönden işlemler yapmayı sağlıyor."
   ]
  },
  {
   "cell_type": "code",
   "execution_count": 3,
   "id": "3981951f-bc27-452c-bdb9-90a5f42007df",
   "metadata": {},
   "outputs": [
    {
     "data": {
      "text/plain": [
       "[5, 12, 21, 32]"
      ]
     },
     "execution_count": 3,
     "metadata": {},
     "output_type": "execute_result"
    }
   ],
   "source": [
    "a=[1,2,3,4]\n",
    "b=[5,6,7,8]\n",
    "ab=[]\n",
    "\n",
    "for i in range(0,len(a)):\n",
    "    ab.append(a[i]*b[i])\n",
    "\n",
    "ab"
   ]
  },
  {
   "cell_type": "code",
   "execution_count": 4,
   "id": "0a294c9c-b6d3-46bf-be14-67d0ab587a92",
   "metadata": {},
   "outputs": [
    {
     "data": {
      "text/plain": [
       "array([ 5, 12, 21, 32])"
      ]
     },
     "execution_count": 4,
     "metadata": {},
     "output_type": "execute_result"
    }
   ],
   "source": [
    "a=np.array([1,2,3,4])\n",
    "b=np.array([5,6,7,8])\n",
    "a*b"
   ]
  },
  {
   "cell_type": "markdown",
   "id": "6ed80864-f346-40f1-8050-2f908cc77cc2",
   "metadata": {},
   "source": [
    "## Numpy Array'İ oluşturmak"
   ]
  },
  {
   "cell_type": "code",
   "execution_count": 5,
   "id": "df7b1a35-cbfb-40f4-a01c-bc5bfe462e5f",
   "metadata": {},
   "outputs": [
    {
     "data": {
      "text/plain": [
       "array([1, 2, 3, 4, 5])"
      ]
     },
     "execution_count": 5,
     "metadata": {},
     "output_type": "execute_result"
    }
   ],
   "source": [
    "np.array([1,2,3,4,5])"
   ]
  },
  {
   "cell_type": "code",
   "execution_count": 6,
   "id": "7aa6a6bd-0788-4bb6-a4fd-59208abd753b",
   "metadata": {},
   "outputs": [
    {
     "data": {
      "text/plain": [
       "array([0., 0., 0., 0., 0., 0., 0., 0., 0., 0.])"
      ]
     },
     "execution_count": 6,
     "metadata": {},
     "output_type": "execute_result"
    }
   ],
   "source": [
    "np.zeros(10)"
   ]
  },
  {
   "cell_type": "code",
   "execution_count": 7,
   "id": "8222c0ca-c6c1-4ef5-be58-78248ac6ade5",
   "metadata": {},
   "outputs": [
    {
     "data": {
      "text/plain": [
       "array([0, 0, 0, 0, 0, 0, 0, 0, 0, 0])"
      ]
     },
     "execution_count": 7,
     "metadata": {},
     "output_type": "execute_result"
    }
   ],
   "source": [
    "np.zeros(10, dtype=int)"
   ]
  },
  {
   "cell_type": "code",
   "execution_count": 8,
   "id": "c5a20698-9c9a-4086-9c87-f40aee0952f4",
   "metadata": {},
   "outputs": [
    {
     "data": {
      "text/plain": [
       "array([9, 6, 2, 5, 4, 3, 9, 4, 3, 6])"
      ]
     },
     "execution_count": 8,
     "metadata": {},
     "output_type": "execute_result"
    }
   ],
   "source": [
    "np.random.randint(0,10,size=10)"
   ]
  },
  {
   "cell_type": "code",
   "execution_count": 9,
   "id": "37f8069e-96fd-4629-bd8f-fa4813fd079d",
   "metadata": {},
   "outputs": [
    {
     "data": {
      "text/plain": [
       "array([[ 4.22157980e+00,  7.74471559e+00,  1.34843050e+01,\n",
       "         8.88071692e+00],\n",
       "       [-1.25869477e-02,  4.50542912e+00,  1.08147722e+01,\n",
       "         7.36438565e+00],\n",
       "       [ 9.47691213e+00,  7.64449093e+00,  1.45291964e+01,\n",
       "         1.50246136e+01]])"
      ]
     },
     "execution_count": 9,
     "metadata": {},
     "output_type": "execute_result"
    }
   ],
   "source": [
    "np.random.normal(10,4,(3,4)) # (ortalama,standart sapma, boyut)"
   ]
  },
  {
   "cell_type": "markdown",
   "id": "5dcd2f31-9e51-4832-87d4-59b6029e68b7",
   "metadata": {},
   "source": [
    "## Numpy Array Özellikleri"
   ]
  },
  {
   "cell_type": "code",
   "execution_count": 10,
   "id": "d2c62fe2-b19a-4b51-ad57-50c2c4ab4378",
   "metadata": {},
   "outputs": [],
   "source": [
    "# ndim:Boyut sayısı\n",
    "# shape: Boyut bilgisi\n",
    "# size: Toplam eleman Sayısı\n",
    "# dtype: Array veri tipi"
   ]
  },
  {
   "cell_type": "code",
   "execution_count": 11,
   "id": "7bbeef16-5daa-468d-b553-b2ff9db14bd7",
   "metadata": {},
   "outputs": [
    {
     "data": {
      "text/plain": [
       "array([4, 2, 1, 7, 6])"
      ]
     },
     "execution_count": 11,
     "metadata": {},
     "output_type": "execute_result"
    }
   ],
   "source": [
    "a=np.random.randint(10,size=5)\n",
    "a"
   ]
  },
  {
   "cell_type": "code",
   "execution_count": 12,
   "id": "b311a8e5-e184-49c3-bcfd-c5cae1ad2a39",
   "metadata": {},
   "outputs": [
    {
     "data": {
      "text/plain": [
       "1"
      ]
     },
     "execution_count": 12,
     "metadata": {},
     "output_type": "execute_result"
    }
   ],
   "source": [
    "a.ndim"
   ]
  },
  {
   "cell_type": "code",
   "execution_count": 13,
   "id": "8cc129f6-21f7-4087-979a-d3610deb0c3d",
   "metadata": {},
   "outputs": [
    {
     "data": {
      "text/plain": [
       "(5,)"
      ]
     },
     "execution_count": 13,
     "metadata": {},
     "output_type": "execute_result"
    }
   ],
   "source": [
    "a.shape"
   ]
  },
  {
   "cell_type": "code",
   "execution_count": 14,
   "id": "197f0ef0-e086-4d0b-b5a9-5f0a5f881c16",
   "metadata": {},
   "outputs": [
    {
     "data": {
      "text/plain": [
       "5"
      ]
     },
     "execution_count": 14,
     "metadata": {},
     "output_type": "execute_result"
    }
   ],
   "source": [
    "a.size"
   ]
  },
  {
   "cell_type": "code",
   "execution_count": 15,
   "id": "e6883bb5-2db2-4fa8-84f4-f48a0c6d8f61",
   "metadata": {},
   "outputs": [
    {
     "data": {
      "text/plain": [
       "dtype('int32')"
      ]
     },
     "execution_count": 15,
     "metadata": {},
     "output_type": "execute_result"
    }
   ],
   "source": [
    "a.dtype"
   ]
  },
  {
   "cell_type": "markdown",
   "id": "d863d6af-fff1-47b9-917d-a108da7d7e24",
   "metadata": {},
   "source": [
    "## Yeniden Şekillendirme (Reshaping)"
   ]
  },
  {
   "cell_type": "code",
   "execution_count": 16,
   "id": "3ea1f880-0f66-4d1f-ab03-adfdab591985",
   "metadata": {},
   "outputs": [
    {
     "data": {
      "text/plain": [
       "array([1, 1, 7, 8, 2, 4, 1, 4, 6])"
      ]
     },
     "execution_count": 16,
     "metadata": {},
     "output_type": "execute_result"
    }
   ],
   "source": [
    "b=np.random.randint(1,10,size=9)\n",
    "b"
   ]
  },
  {
   "cell_type": "code",
   "execution_count": 17,
   "id": "202526c1-614a-489f-bac1-48af04901007",
   "metadata": {},
   "outputs": [
    {
     "data": {
      "text/plain": [
       "array([[1, 1, 7],\n",
       "       [8, 2, 4],\n",
       "       [1, 4, 6]])"
      ]
     },
     "execution_count": 17,
     "metadata": {},
     "output_type": "execute_result"
    }
   ],
   "source": [
    "b.reshape(3,3)"
   ]
  },
  {
   "cell_type": "markdown",
   "id": "acb0745a-c60c-4f12-a0f0-bce78b23d4da",
   "metadata": {},
   "source": [
    "## Index Seçimi"
   ]
  },
  {
   "cell_type": "code",
   "execution_count": 18,
   "id": "b8d9f320-9bd6-4a39-940e-85e7b07160b2",
   "metadata": {},
   "outputs": [
    {
     "data": {
      "text/plain": [
       "array([9, 2, 6, 8, 3, 9, 0, 2, 2, 7])"
      ]
     },
     "execution_count": 18,
     "metadata": {},
     "output_type": "execute_result"
    }
   ],
   "source": [
    "c=np.random.randint(10,size=10)\n",
    "c"
   ]
  },
  {
   "cell_type": "code",
   "execution_count": 19,
   "id": "2fe6aba4-08d8-47e1-8942-bcbdbf9a1709",
   "metadata": {},
   "outputs": [
    {
     "data": {
      "text/plain": [
       "array([4, 2, 1, 7, 6])"
      ]
     },
     "execution_count": 19,
     "metadata": {},
     "output_type": "execute_result"
    }
   ],
   "source": [
    "a[0:5]"
   ]
  },
  {
   "cell_type": "code",
   "execution_count": 20,
   "id": "f5ec59d1-e7ce-4f81-91df-1589ba5063ea",
   "metadata": {},
   "outputs": [
    {
     "data": {
      "text/plain": [
       "6"
      ]
     },
     "execution_count": 20,
     "metadata": {},
     "output_type": "execute_result"
    }
   ],
   "source": [
    "a[-1]"
   ]
  },
  {
   "cell_type": "code",
   "execution_count": 21,
   "id": "99a16de7-e789-4c7b-ae9e-83be4cc7ac84",
   "metadata": {},
   "outputs": [
    {
     "data": {
      "text/plain": [
       "array([ 1,  1,  7, 32,  2,  4,  1,  4,  6])"
      ]
     },
     "execution_count": 21,
     "metadata": {},
     "output_type": "execute_result"
    }
   ],
   "source": [
    "b[3]=32\n",
    "b"
   ]
  },
  {
   "cell_type": "code",
   "execution_count": 22,
   "id": "6ce858d4-b959-4f08-8823-9bb1f251db72",
   "metadata": {},
   "outputs": [
    {
     "data": {
      "text/plain": [
       "array([[0, 4, 2, 8, 1],\n",
       "       [7, 5, 1, 9, 0],\n",
       "       [3, 5, 2, 1, 3]])"
      ]
     },
     "execution_count": 22,
     "metadata": {},
     "output_type": "execute_result"
    }
   ],
   "source": [
    "m=np.random.randint(10,size=(3,5))\n",
    "m"
   ]
  },
  {
   "cell_type": "code",
   "execution_count": 23,
   "id": "6a846dfa-82c0-46a7-9841-4b9309dac169",
   "metadata": {},
   "outputs": [
    {
     "data": {
      "text/plain": [
       "5"
      ]
     },
     "execution_count": 23,
     "metadata": {},
     "output_type": "execute_result"
    }
   ],
   "source": [
    "m[1,1]"
   ]
  },
  {
   "cell_type": "code",
   "execution_count": 24,
   "id": "a2a22ccc-3ee1-46c1-833f-4d03682248ab",
   "metadata": {},
   "outputs": [
    {
     "data": {
      "text/plain": [
       "array([[0, 4, 2, 8, 1],\n",
       "       [7, 2, 1, 9, 0],\n",
       "       [3, 5, 2, 1, 3]])"
      ]
     },
     "execution_count": 24,
     "metadata": {},
     "output_type": "execute_result"
    }
   ],
   "source": [
    "m[1,1]=2.9\n",
    "m\n",
    "# burada 2.9 yerine 2 değeri geldi çünkü numpy sabit tiplidir."
   ]
  },
  {
   "cell_type": "code",
   "execution_count": 25,
   "id": "1c570c59-c89c-456e-b683-fe98172ca584",
   "metadata": {},
   "outputs": [
    {
     "data": {
      "text/plain": [
       "array([[0, 4, 2],\n",
       "       [7, 2, 1]])"
      ]
     },
     "execution_count": 25,
     "metadata": {},
     "output_type": "execute_result"
    }
   ],
   "source": [
    "m[0:2,0:3]"
   ]
  },
  {
   "cell_type": "markdown",
   "id": "4077736d-dcd1-49a2-aa69-101779ee88b0",
   "metadata": {},
   "source": [
    "##  Fancy İndex"
   ]
  },
  {
   "cell_type": "code",
   "execution_count": 26,
   "id": "f821ffb9-249b-4236-80bd-d3598aca21b8",
   "metadata": {},
   "outputs": [
    {
     "data": {
      "text/plain": [
       "array([ 0,  3,  6,  9, 12, 15, 18, 21, 24, 27])"
      ]
     },
     "execution_count": 26,
     "metadata": {},
     "output_type": "execute_result"
    }
   ],
   "source": [
    "v=np.arange(0,30,3)\n",
    "v"
   ]
  },
  {
   "cell_type": "code",
   "execution_count": 27,
   "id": "ab250d5d-4810-4c94-a5da-493d853df1b2",
   "metadata": {},
   "outputs": [
    {
     "data": {
      "text/plain": [
       "12"
      ]
     },
     "execution_count": 27,
     "metadata": {},
     "output_type": "execute_result"
    }
   ],
   "source": [
    "v[4]"
   ]
  },
  {
   "cell_type": "code",
   "execution_count": 28,
   "id": "01cdccc8-7a8d-4bea-bd2e-cffa163e45b7",
   "metadata": {},
   "outputs": [
    {
     "data": {
      "text/plain": [
       "array([ 6,  9, 18])"
      ]
     },
     "execution_count": 28,
     "metadata": {},
     "output_type": "execute_result"
    }
   ],
   "source": [
    "v[[2,3,6]]"
   ]
  },
  {
   "cell_type": "markdown",
   "id": "2756cdd7-b6bb-400a-99e0-5ace3702fe69",
   "metadata": {},
   "source": [
    "## Numpy'da koşullu işlemler"
   ]
  },
  {
   "cell_type": "code",
   "execution_count": 29,
   "id": "7323f4ef-64ec-45ca-b8ba-202396565eed",
   "metadata": {},
   "outputs": [
    {
     "data": {
      "text/plain": [
       "[18, 21, 24, 27]"
      ]
     },
     "execution_count": 29,
     "metadata": {},
     "output_type": "execute_result"
    }
   ],
   "source": [
    "a=[]\n",
    "for i in v:\n",
    "    if i>17:\n",
    "        a.append(i)\n",
    "\n",
    "a"
   ]
  },
  {
   "cell_type": "code",
   "execution_count": 30,
   "id": "4a97d370-5355-45c1-bcbc-6d60de609c51",
   "metadata": {},
   "outputs": [
    {
     "data": {
      "text/plain": [
       "array([18, 21, 24, 27])"
      ]
     },
     "execution_count": 30,
     "metadata": {},
     "output_type": "execute_result"
    }
   ],
   "source": [
    "v[v>17]"
   ]
  },
  {
   "cell_type": "markdown",
   "id": "30139855-eb3b-478a-823b-13e6960e705a",
   "metadata": {},
   "source": [
    "## Matematiksel İşlemler"
   ]
  },
  {
   "cell_type": "code",
   "execution_count": 31,
   "id": "4abb60a8-c8f0-479f-b949-080bc1e3e5bd",
   "metadata": {},
   "outputs": [
    {
     "data": {
      "text/plain": [
       "array([0.2, 0.4, 0.6, 0.8, 1. ])"
      ]
     },
     "execution_count": 31,
     "metadata": {},
     "output_type": "execute_result"
    }
   ],
   "source": [
    "z=np.array([1,2,3,4,5])\n",
    "\n",
    "z/5"
   ]
  },
  {
   "cell_type": "code",
   "execution_count": 32,
   "id": "8324e5d0-15de-43a1-9fdb-93aa2ee9bfb6",
   "metadata": {},
   "outputs": [
    {
     "data": {
      "text/plain": [
       "array([0, 1, 2, 3, 4])"
      ]
     },
     "execution_count": 32,
     "metadata": {},
     "output_type": "execute_result"
    }
   ],
   "source": [
    "np.subtract(z,1) # Çıkarma "
   ]
  },
  {
   "cell_type": "code",
   "execution_count": 33,
   "id": "73225dcb-7d00-40d2-8800-77f937498045",
   "metadata": {},
   "outputs": [
    {
     "data": {
      "text/plain": [
       "array([2, 3, 4, 5, 6])"
      ]
     },
     "execution_count": 33,
     "metadata": {},
     "output_type": "execute_result"
    }
   ],
   "source": [
    "np.add(z,1)"
   ]
  },
  {
   "cell_type": "code",
   "execution_count": 34,
   "id": "c03d3258-cafd-4727-8504-675cdd19c98f",
   "metadata": {},
   "outputs": [
    {
     "data": {
      "text/plain": [
       "3.0"
      ]
     },
     "execution_count": 34,
     "metadata": {},
     "output_type": "execute_result"
    }
   ],
   "source": [
    "np.mean(z)"
   ]
  },
  {
   "cell_type": "code",
   "execution_count": 35,
   "id": "31e335a2-38a9-46de-866e-046784833f1f",
   "metadata": {},
   "outputs": [
    {
     "data": {
      "text/plain": [
       "1"
      ]
     },
     "execution_count": 35,
     "metadata": {},
     "output_type": "execute_result"
    }
   ],
   "source": [
    "np.min(z)"
   ]
  },
  {
   "cell_type": "code",
   "execution_count": 36,
   "id": "7678d03f-85b3-427e-9ec4-49591d89a38d",
   "metadata": {},
   "outputs": [
    {
     "data": {
      "text/plain": [
       "5"
      ]
     },
     "execution_count": 36,
     "metadata": {},
     "output_type": "execute_result"
    }
   ],
   "source": [
    "np.max(z)"
   ]
  },
  {
   "cell_type": "code",
   "execution_count": 37,
   "id": "8f7900ac-3b16-4bb6-a76f-769fdd1cfc3e",
   "metadata": {},
   "outputs": [
    {
     "data": {
      "text/plain": [
       "2.0"
      ]
     },
     "execution_count": 37,
     "metadata": {},
     "output_type": "execute_result"
    }
   ],
   "source": [
    "np.var(z)"
   ]
  },
  {
   "cell_type": "code",
   "execution_count": 38,
   "id": "0e410a0c-b6bf-44d5-b48a-9706f4ba4cf6",
   "metadata": {},
   "outputs": [
    {
     "data": {
      "text/plain": [
       "15"
      ]
     },
     "execution_count": 38,
     "metadata": {},
     "output_type": "execute_result"
    }
   ],
   "source": [
    "np.sum(z)"
   ]
  },
  {
   "cell_type": "code",
   "execution_count": 39,
   "id": "f5e21be2-d5e8-4c1d-9611-bb378c978c85",
   "metadata": {},
   "outputs": [],
   "source": [
    "# numpy ile iki bilinmeyenli denklem çözümü"
   ]
  },
  {
   "cell_type": "code",
   "execution_count": 40,
   "id": "b43052bb-58c9-479d-81fd-8fad65cfaf09",
   "metadata": {},
   "outputs": [],
   "source": [
    "# 5*x + x1 = 12\n",
    "# x0 + 3*x1 = 10"
   ]
  },
  {
   "cell_type": "code",
   "execution_count": 41,
   "id": "3c64d8f1-d3b7-44db-8fba-187a0761cb06",
   "metadata": {},
   "outputs": [],
   "source": [
    "a=np.array([[5,1],[1,3]])\n",
    "b=np.array([12,10])"
   ]
  },
  {
   "cell_type": "code",
   "execution_count": 42,
   "id": "fda00084-1b70-4043-bd9b-b61486c17939",
   "metadata": {},
   "outputs": [
    {
     "data": {
      "text/plain": [
       "array([1.85714286, 2.71428571])"
      ]
     },
     "execution_count": 42,
     "metadata": {},
     "output_type": "execute_result"
    }
   ],
   "source": [
    "np.linalg.solve(a,b)"
   ]
  },
  {
   "cell_type": "code",
   "execution_count": null,
   "id": "3349bb9e-4800-4bfc-8ea1-bc7b996acb39",
   "metadata": {},
   "outputs": [],
   "source": []
  }
 ],
 "metadata": {
  "kernelspec": {
   "display_name": "Python 3 (ipykernel)",
   "language": "python",
   "name": "python3"
  },
  "language_info": {
   "codemirror_mode": {
    "name": "ipython",
    "version": 3
   },
   "file_extension": ".py",
   "mimetype": "text/x-python",
   "name": "python",
   "nbconvert_exporter": "python",
   "pygments_lexer": "ipython3",
   "version": "3.12.4"
  }
 },
 "nbformat": 4,
 "nbformat_minor": 5
}
