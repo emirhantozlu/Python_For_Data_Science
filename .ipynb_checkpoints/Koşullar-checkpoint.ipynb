{
 "cells": [
  {
   "cell_type": "markdown",
   "id": "52706a14-9810-48ca-9898-467a3257d54b",
   "metadata": {},
   "source": [
    "# Python For Data Science"
   ]
  },
  {
   "cell_type": "markdown",
   "id": "b57416f2-5923-4c04-b22f-43e31c58ae28",
   "metadata": {},
   "source": [
    "### Koşullar & Döngüler"
   ]
  },
  {
   "cell_type": "code",
   "execution_count": 1,
   "id": "c2988aec-52b9-40b3-8d93-1789e3b7dd9c",
   "metadata": {},
   "outputs": [
    {
     "name": "stdout",
     "output_type": "stream",
     "text": [
      "emirhan\n",
      "elif\n",
      "ali\n",
      "zeynep\n"
     ]
    }
   ],
   "source": [
    "ogr=[\"emirhan\",\"elif\",\"ali\",\"zeynep\"]\n",
    "for student in ogr:\n",
    "    print(student)"
   ]
  },
  {
   "cell_type": "code",
   "execution_count": 2,
   "id": "28f186cb-1342-4b19-9a8e-074e1a4260cb",
   "metadata": {},
   "outputs": [
    {
     "name": "stdout",
     "output_type": "stream",
     "text": [
      "EMIRHAN\n",
      "ELIF\n",
      "ALI\n",
      "ZEYNEP\n"
     ]
    }
   ],
   "source": [
    "for ucur in ogr:\n",
    "    print(ucur.upper())"
   ]
  },
  {
   "cell_type": "code",
   "execution_count": 3,
   "id": "2b3d8123-e68b-48bc-9572-37dbb9f6a424",
   "metadata": {},
   "outputs": [
    {
     "name": "stdout",
     "output_type": "stream",
     "text": [
      "H\n",
      "i\n",
      "M\n",
      "y\n",
      "N\n",
      "a\n",
      "M\n",
      "e\n",
      "I\n",
      "s\n",
      "J\n",
      "h\n",
      "O\n",
      "n\n",
      "A\n",
      "n\n",
      "D\n",
      "i\n",
      "A\n",
      "m\n",
      "L\n",
      "e\n",
      "A\n",
      "r\n",
      "N\n",
      "i\n",
      "N\n",
      "g\n",
      "P\n",
      "y\n",
      "T\n",
      "h\n",
      "O\n",
      "n\n"
     ]
    }
   ],
   "source": [
    "# mülakat sorusu imiş bu. gerçekten güzel bir soru idi.\n",
    "\n",
    "string= \"hi my name is jhon and i am learning python\"\n",
    "a=[]\n",
    "for kelime in string.split():\n",
    "    for harf in kelime:\n",
    "        a.append(harf)\n",
    "\n",
    "for index,harf  in enumerate(a):\n",
    "    if(index%2==0):\n",
    "        print(harf.upper())\n",
    "    else:\n",
    "        print(harf.lower())"
   ]
  },
  {
   "cell_type": "code",
   "execution_count": 4,
   "id": "3a77c338-c463-4d46-91df-aa610ad16568",
   "metadata": {},
   "outputs": [
    {
     "name": "stdout",
     "output_type": "stream",
     "text": [
      "S\n",
      "e\n",
      "L\n",
      "a\n",
      "M\n",
      "u\n",
      "N\n",
      " \n",
      "A\n",
      "l\n",
      "E\n",
      "y\n",
      "K\n",
      "ü\n",
      "M\n"
     ]
    }
   ],
   "source": [
    "def alternating(string):\n",
    "    for string_index in range(len(string)):\n",
    "        if (string_index %2==0):\n",
    "            print(string[string_index].upper())\n",
    "        else:\n",
    "            print(string[string_index].lower())\n",
    "\n",
    "alternating(\"selamun aleyküm\")"
   ]
  },
  {
   "cell_type": "markdown",
   "id": "4b447d03-fa94-4cb4-b245-3bb3073d6477",
   "metadata": {},
   "source": [
    "##### breaj & continue & while"
   ]
  },
  {
   "cell_type": "code",
   "execution_count": 5,
   "id": "4bcab984-3dae-4ff7-8734-0e518902b81a",
   "metadata": {},
   "outputs": [
    {
     "name": "stdout",
     "output_type": "stream",
     "text": [
      "1000\n",
      "2000\n"
     ]
    }
   ],
   "source": [
    "salaries=[1000,2000,3000,4000,5000]\n",
    "\n",
    "for salary in salaries:\n",
    "    if salary==3000:\n",
    "        break\n",
    "    print(salary)"
   ]
  },
  {
   "cell_type": "code",
   "execution_count": 6,
   "id": "996665df-8d9b-4b14-bdfe-3cd28576d1ac",
   "metadata": {},
   "outputs": [
    {
     "name": "stdout",
     "output_type": "stream",
     "text": [
      "1000\n",
      "2000\n",
      "4000\n",
      "5000\n"
     ]
    }
   ],
   "source": [
    "for salary in salaries:\n",
    "    if salary ==3000:\n",
    "        continue\n",
    "    print(salary)"
   ]
  },
  {
   "cell_type": "code",
   "execution_count": 7,
   "id": "8a9671e9-9f5d-45f6-b58f-21cc602f2e77",
   "metadata": {},
   "outputs": [
    {
     "name": "stdout",
     "output_type": "stream",
     "text": [
      "1\n",
      "2\n",
      "3\n",
      "4\n",
      "5\n",
      "6\n",
      "7\n",
      "8\n",
      "9\n"
     ]
    }
   ],
   "source": [
    "number=1\n",
    "while number<10:\n",
    "    print(number)\n",
    "    number+=1"
   ]
  },
  {
   "cell_type": "markdown",
   "id": "f03ff544-688d-43ae-9c54-7949c316528d",
   "metadata": {},
   "source": [
    "##### Enumarate"
   ]
  },
  {
   "cell_type": "code",
   "execution_count": 8,
   "id": "842b424b-702f-4995-988b-2c58f9e6a467",
   "metadata": {},
   "outputs": [
    {
     "name": "stdout",
     "output_type": "stream",
     "text": [
      "emirhan\n",
      "elif\n",
      "ali\n",
      "zeynep\n"
     ]
    }
   ],
   "source": [
    " students=[\"emirhan\",\"elif\",\"ali\",\"zeynep\"]\n",
    "\n",
    "for student in students:\n",
    "    print(student)"
   ]
  },
  {
   "cell_type": "code",
   "execution_count": 9,
   "id": "cd2917ea-84a1-4ade-b340-bfbf0797fa2b",
   "metadata": {},
   "outputs": [
    {
     "name": "stdout",
     "output_type": "stream",
     "text": [
      "0 emirhan\n",
      "1 elif\n",
      "2 ali\n",
      "3 zeynep\n"
     ]
    }
   ],
   "source": [
    "for index,student in enumerate(students):\n",
    "    print(index,student)\n"
   ]
  },
  {
   "cell_type": "code",
   "execution_count": 10,
   "id": "018eca1a-d3e2-409f-8cd7-ce9a3dbaa696",
   "metadata": {},
   "outputs": [
    {
     "name": "stdout",
     "output_type": "stream",
     "text": [
      "[['emirhan', 'ali'], ['elif', 'zeynep']]\n"
     ]
    }
   ],
   "source": [
    "c=[]\n",
    "t=[]\n",
    "\n",
    "for index,student in enumerate(students):\n",
    "    if(index%2==0):\n",
    "        c.append(student)\n",
    "    else:\n",
    "        t.append(student)\n",
    "\n",
    "print([c,t])\n",
    "    "
   ]
  },
  {
   "cell_type": "markdown",
   "id": "9918e92e-da58-458a-b668-4e8fd93cb121",
   "metadata": {},
   "source": [
    "##### Zip"
   ]
  },
  {
   "cell_type": "code",
   "execution_count": 11,
   "id": "0ce4b28f-5a7f-4151-8695-0c24e3993162",
   "metadata": {},
   "outputs": [
    {
     "data": {
      "text/plain": [
       "[('emirhan', 'statistics', 21),\n",
       " ('elif', 'mathematics', 19),\n",
       " ('ali', 'pyhsics', 32),\n",
       " ('zeynep', 'asronomy', 28)]"
      ]
     },
     "execution_count": 11,
     "metadata": {},
     "output_type": "execute_result"
    }
   ],
   "source": [
    "\n",
    "students=[\"emirhan\",\"elif\",\"ali\",\"zeynep\"]\n",
    "departments=[\"statistics\",\"mathematics\",\"pyhsics\",\"asronomy\"]\n",
    "ages=[21,19,32,28]\n",
    "\n",
    "list(zip(students,departments,ages))\n",
    "# burada listeleri indexlere göre match'lemesi gerekiyordu."
   ]
  },
  {
   "cell_type": "markdown",
   "id": "cae0b081-c571-4901-a84b-cb410fc444c4",
   "metadata": {},
   "source": [
    "##### lambda, map,filter,Reduce"
   ]
  },
  {
   "cell_type": "code",
   "execution_count": 12,
   "id": "69fdd93d-43e2-4e61-9faf-fce68376c118",
   "metadata": {},
   "outputs": [
    {
     "data": {
      "text/plain": [
       "8"
      ]
     },
     "execution_count": 12,
     "metadata": {},
     "output_type": "execute_result"
    }
   ],
   "source": [
    "def sum(a,b):\n",
    "    return a+b\n",
    "\n",
    "new_sum=lambda a,b:a+b\n",
    "\n",
    "\n",
    "new_sum(5,3)"
   ]
  },
  {
   "cell_type": "code",
   "execution_count": 13,
   "id": "bd239041-443f-4c8b-8bbd-4f7c13014c39",
   "metadata": {},
   "outputs": [
    {
     "data": {
      "text/plain": [
       "7"
      ]
     },
     "execution_count": 13,
     "metadata": {},
     "output_type": "execute_result"
    }
   ],
   "source": [
    "sum(5,2)"
   ]
  },
  {
   "cell_type": "code",
   "execution_count": 14,
   "id": "5960500d-9e0b-4ecd-a93f-8376e58354ea",
   "metadata": {},
   "outputs": [
    {
     "name": "stdout",
     "output_type": "stream",
     "text": [
      "[1200.0, 2400.0, 3600.0, 4800.0, 6000.0]\n"
     ]
    }
   ],
   "source": [
    "salaries = [1000, 2000, 3000, 4000, 5000]\n",
    "\n",
    "def zam(s):\n",
    "    return s + s * 0.2\n",
    "\n",
    "# map fonk bizim için verilen görevi verilen obje için gerçekleştirir.\n",
    "# map() fonksiyonu kullanımı\n",
    "zamli_salaries = map(zam, salaries)\n",
    "\n",
    "# Sonuçları listeye dönüştürerek yazdırma\n",
    "print(list(zamli_salaries))\n"
   ]
  },
  {
   "cell_type": "code",
   "execution_count": 15,
   "id": "522b1859-97a8-4c01-8345-42e0553a6659",
   "metadata": {},
   "outputs": [
    {
     "data": {
      "text/plain": [
       "[300.0, 600.0, 900.0, 1200.0, 1500.0]"
      ]
     },
     "execution_count": 15,
     "metadata": {},
     "output_type": "execute_result"
    }
   ],
   "source": [
    "# lambda fonksiyonunu bu şekilde kullanmak daha iyi olur.\n",
    "list(map(lambda x:x*30/100,salaries))"
   ]
  },
  {
   "cell_type": "code",
   "execution_count": 16,
   "id": "75536596-fc35-4bb3-98ff-caa2d1f4ea46",
   "metadata": {},
   "outputs": [
    {
     "data": {
      "text/plain": [
       "[2, 4, 6, 8, 10]"
      ]
     },
     "execution_count": 16,
     "metadata": {},
     "output_type": "execute_result"
    }
   ],
   "source": [
    "#filte \n",
    "list_store=[1,2,3,4,5,6,7,8,9,10]\n",
    "\n",
    "list(filter(lambda x:x%2==0,list_store))"
   ]
  },
  {
   "cell_type": "code",
   "execution_count": 19,
   "id": "08de9ef8-32c5-4a84-b6fb-ffa7c7fa45b7",
   "metadata": {},
   "outputs": [
    {
     "name": "stdout",
     "output_type": "stream",
     "text": [
      "55\n"
     ]
    }
   ],
   "source": [
    "from functools import reduce\n",
    "\n",
    "list_store = [1, 2, 3, 4, 5, 6, 7, 8, 9, 10]\n",
    "\n",
    "# reduce, lambda fonksiyonunu list_store üzerindeki her iki eleman üzerinde uygular\n",
    "result = reduce(lambda a, b: a + b, list_store)\n",
    "\n",
    "print(result)\n"
   ]
  },
  {
   "cell_type": "code",
   "execution_count": null,
   "id": "600d3671-8d00-4c77-95d4-5788b7d0c890",
   "metadata": {},
   "outputs": [],
   "source": []
  }
 ],
 "metadata": {
  "kernelspec": {
   "display_name": "Python 3 (ipykernel)",
   "language": "python",
   "name": "python3"
  },
  "language_info": {
   "codemirror_mode": {
    "name": "ipython",
    "version": 3
   },
   "file_extension": ".py",
   "mimetype": "text/x-python",
   "name": "python",
   "nbconvert_exporter": "python",
   "pygments_lexer": "ipython3",
   "version": "3.12.4"
  }
 },
 "nbformat": 4,
 "nbformat_minor": 5
}
