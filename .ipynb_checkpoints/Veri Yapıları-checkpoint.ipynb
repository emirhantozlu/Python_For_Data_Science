{
 "cells": [
  {
   "cell_type": "markdown",
   "id": "bd57dca4-10df-4c56-b40c-6bfa13aaaf18",
   "metadata": {},
   "source": [
    "# PYTHON FOR DATA SCİENCE"
   ]
  },
  {
   "cell_type": "markdown",
   "id": "dbc86a00-9de4-4ef4-85ca-06fdae604081",
   "metadata": {},
   "source": [
    "### VERİ YAPILARI (DATA STRUCTURES)"
   ]
  },
  {
   "cell_type": "markdown",
   "id": "79fb9f78-d0f9-4335-bd7f-19188ad3451b",
   "metadata": {},
   "source": [
    "# İçerik:\n",
    "1. Veri Yapılarına Giriş Ve Hızlı Özet\n",
    "2. Sayılar(Numbers):int,float,complex\n",
    "3. Karakter Dizileri(Strings):str\n",
    "4. Boolean(True-False):Bool\n",
    "5. Liste(list)\n",
    "6. Sözlük(Dictionary)\n",
    "7. Demet(Tuple)\n",
    "8. Set"
   ]
  },
  {
   "cell_type": "markdown",
   "id": "78c542f2-2cf5-49f5-a1f9-8a9cce275ea8",
   "metadata": {},
   "source": [
    "##### Veri Yapılarına Giriş Ve Hızlı Özet"
   ]
  },
  {
   "cell_type": "code",
   "execution_count": 1,
   "id": "1218b8eb-ef60-483d-a162-871742b3d66a",
   "metadata": {},
   "outputs": [
    {
     "data": {
      "text/plain": [
       "int"
      ]
     },
     "execution_count": 1,
     "metadata": {},
     "output_type": "execute_result"
    }
   ],
   "source": [
    "# sayilar: integer\n",
    "x=46\n",
    "type(x)"
   ]
  },
  {
   "cell_type": "code",
   "execution_count": 2,
   "id": "f855fda7-a572-445b-a411-368ede4e12c0",
   "metadata": {},
   "outputs": [
    {
     "data": {
      "text/plain": [
       "float"
      ]
     },
     "execution_count": 2,
     "metadata": {},
     "output_type": "execute_result"
    }
   ],
   "source": [
    "# sayilar: float\n",
    "x=46.2\n",
    "type(x)"
   ]
  },
  {
   "cell_type": "code",
   "execution_count": 3,
   "id": "fe99d9e3-3180-4eb3-af6b-1ae3bfaba289",
   "metadata": {},
   "outputs": [
    {
     "data": {
      "text/plain": [
       "str"
      ]
     },
     "execution_count": 3,
     "metadata": {},
     "output_type": "execute_result"
    }
   ],
   "source": [
    "# string\n",
    "x='hello world'\n",
    "type(x)"
   ]
  },
  {
   "cell_type": "code",
   "execution_count": 4,
   "id": "19608acf-4c35-4206-ac59-92eb24e85f49",
   "metadata": {},
   "outputs": [
    {
     "data": {
      "text/plain": [
       "bool"
      ]
     },
     "execution_count": 4,
     "metadata": {},
     "output_type": "execute_result"
    }
   ],
   "source": [
    "#bool\n",
    "x=True\n",
    "type(x)"
   ]
  },
  {
   "cell_type": "code",
   "execution_count": 5,
   "id": "693889cf-928c-4e8b-b62f-47396c03ad30",
   "metadata": {},
   "outputs": [
    {
     "data": {
      "text/plain": [
       "list"
      ]
     },
     "execution_count": 5,
     "metadata": {},
     "output_type": "execute_result"
    }
   ],
   "source": [
    "#liste\n",
    "x=[\"abc\",\"def\"]\n",
    "type(x)"
   ]
  },
  {
   "cell_type": "code",
   "execution_count": 6,
   "id": "0e017573-f025-4941-9e85-5a37a118bf9b",
   "metadata": {},
   "outputs": [
    {
     "data": {
      "text/plain": [
       "dict"
      ]
     },
     "execution_count": 6,
     "metadata": {},
     "output_type": "execute_result"
    }
   ],
   "source": [
    "#sözlük\n",
    "x={\"name\":\"Emirhan\",\"yas\": 21}\n",
    "# sözlükler key-value çiftlerinden oluşur.\n",
    "type(x)"
   ]
  },
  {
   "cell_type": "code",
   "execution_count": 7,
   "id": "9ea92ab6-e0cf-49cf-acc8-8e78f5f1f9f7",
   "metadata": {},
   "outputs": [
    {
     "data": {
      "text/plain": [
       "tuple"
      ]
     },
     "execution_count": 7,
     "metadata": {},
     "output_type": "execute_result"
    }
   ],
   "source": [
    "# tuple\n",
    "x=(\"tozlu\",12,\"ali\")\n",
    "type(x)"
   ]
  },
  {
   "cell_type": "code",
   "execution_count": 8,
   "id": "99a2f118-1f3e-4a12-8115-67f939223f6b",
   "metadata": {},
   "outputs": [
    {
     "data": {
      "text/plain": [
       "set"
      ]
     },
     "execution_count": 8,
     "metadata": {},
     "output_type": "execute_result"
    }
   ],
   "source": [
    "# set\n",
    "x={\"python,\",\"java\"}\n",
    "type(x)"
   ]
  },
  {
   "cell_type": "code",
   "execution_count": 9,
   "id": "140c3f8b-30c0-4699-9a9c-24326ba87f0f",
   "metadata": {},
   "outputs": [],
   "source": [
    "#Liste,Tuple,Set ve dictionary veri yapıları aynı zamanda Python Collection (Arrays) olarak geçmektedir. "
   ]
  },
  {
   "cell_type": "markdown",
   "id": "07fa39c0-a7c5-4392-ab2f-a44a5481cf99",
   "metadata": {},
   "source": [
    "##### Sayılar (Numbers)"
   ]
  },
  {
   "cell_type": "code",
   "execution_count": 10,
   "id": "8d718c79-0ea0-4620-94e6-e634321bdaec",
   "metadata": {},
   "outputs": [
    {
     "data": {
      "text/plain": [
       "8"
      ]
     },
     "execution_count": 10,
     "metadata": {},
     "output_type": "execute_result"
    }
   ],
   "source": [
    "a=5\n",
    "b=12.4\n",
    "#int() fonksiyonu kendisine girilen ifadeyi integere çevirir.\n",
    "int(b)\n",
    "int(a / b * 21)"
   ]
  },
  {
   "cell_type": "markdown",
   "id": "4c1b1b8c-0903-4b2f-9bee-4111c92a7c43",
   "metadata": {},
   "source": [
    "##### Karakter Dizleri(String)"
   ]
  },
  {
   "cell_type": "code",
   "execution_count": 11,
   "id": "61db1183-4237-45d9-a97b-35cdb589e4fa",
   "metadata": {},
   "outputs": [
    {
     "data": {
      "text/plain": [
       "'\\nmerhaba ben emirhan \\nburada sizinle python tekrarı yapıyoruz.\\n'"
      ]
     },
     "execution_count": 11,
     "metadata": {},
     "output_type": "execute_result"
    }
   ],
   "source": [
    "s=\"emirhan\"\n",
    "\n",
    "\n",
    "long_str=\"\"\"\n",
    "merhaba ben emirhan \n",
    "burada sizinle python tekrarı yapıyoruz.\n",
    "\"\"\"\n",
    "long_str"
   ]
  },
  {
   "cell_type": "code",
   "execution_count": 12,
   "id": "88bf6e7f-7ea7-4f20-9434-b87518523cc5",
   "metadata": {},
   "outputs": [
    {
     "data": {
      "text/plain": [
       "'a'"
      ]
     },
     "execution_count": 12,
     "metadata": {},
     "output_type": "execute_result"
    }
   ],
   "source": [
    "s[5]"
   ]
  },
  {
   "cell_type": "code",
   "execution_count": 13,
   "id": "8f29f946-3e80-4cbb-b683-d78eafc991c8",
   "metadata": {},
   "outputs": [
    {
     "data": {
      "text/plain": [
       "'mir'"
      ]
     },
     "execution_count": 13,
     "metadata": {},
     "output_type": "execute_result"
    }
   ],
   "source": [
    "# slice işlemleri\n",
    "s[1:4]"
   ]
  },
  {
   "cell_type": "code",
   "execution_count": 14,
   "id": "44f30302-c31d-4636-a7f0-320d4351f43e",
   "metadata": {},
   "outputs": [
    {
     "data": {
      "text/plain": [
       "True"
      ]
     },
     "execution_count": 14,
     "metadata": {},
     "output_type": "execute_result"
    }
   ],
   "source": [
    "# string ifademiz içinde karakter sorgulama\n",
    "\"emirhan\" in long_str\n",
    "# büyük-küçük harfe duyarlıdır."
   ]
  },
  {
   "cell_type": "code",
   "execution_count": 15,
   "id": "6cde4f99-5d56-48ce-8f1e-4c17f55df755",
   "metadata": {},
   "outputs": [
    {
     "data": {
      "text/plain": [
       "\u001b[1;31mInit signature:\u001b[0m \u001b[0mstr\u001b[0m\u001b[1;33m(\u001b[0m\u001b[0mself\u001b[0m\u001b[1;33m,\u001b[0m \u001b[1;33m/\u001b[0m\u001b[1;33m,\u001b[0m \u001b[1;33m*\u001b[0m\u001b[0margs\u001b[0m\u001b[1;33m,\u001b[0m \u001b[1;33m**\u001b[0m\u001b[0mkwargs\u001b[0m\u001b[1;33m)\u001b[0m\u001b[1;33m\u001b[0m\u001b[1;33m\u001b[0m\u001b[0m\n",
       "\u001b[1;31mDocstring:\u001b[0m     \n",
       "str(object='') -> str\n",
       "str(bytes_or_buffer[, encoding[, errors]]) -> str\n",
       "\n",
       "Create a new string object from the given object. If encoding or\n",
       "errors is specified, then the object must expose a data buffer\n",
       "that will be decoded using the given encoding and error handler.\n",
       "Otherwise, returns the result of object.__str__() (if defined)\n",
       "or repr(object).\n",
       "encoding defaults to sys.getdefaultencoding().\n",
       "errors defaults to 'strict'.\n",
       "\u001b[1;31mType:\u001b[0m           type\n",
       "\u001b[1;31mSubclasses:\u001b[0m     StrEnum, DeferredConfigString, FoldedCase, _rstr, _ScriptTarget, _ModuleTarget, LSString, include, Keys, InputMode, ..."
      ]
     },
     "metadata": {},
     "output_type": "display_data"
    }
   ],
   "source": [
    "# string methotları \n",
    "str?\n",
    "# stirng hakkında genel bir bilgi edinmek için kullanılır."
   ]
  },
  {
   "cell_type": "code",
   "execution_count": 16,
   "id": "68eac9da-5b40-4301-8f7f-72068861e743",
   "metadata": {},
   "outputs": [
    {
     "data": {
      "text/plain": [
       "['__add__',\n",
       " '__class__',\n",
       " '__contains__',\n",
       " '__delattr__',\n",
       " '__dir__',\n",
       " '__doc__',\n",
       " '__eq__',\n",
       " '__format__',\n",
       " '__ge__',\n",
       " '__getattribute__',\n",
       " '__getitem__',\n",
       " '__getnewargs__',\n",
       " '__getstate__',\n",
       " '__gt__',\n",
       " '__hash__',\n",
       " '__init__',\n",
       " '__init_subclass__',\n",
       " '__iter__',\n",
       " '__le__',\n",
       " '__len__',\n",
       " '__lt__',\n",
       " '__mod__',\n",
       " '__mul__',\n",
       " '__ne__',\n",
       " '__new__',\n",
       " '__reduce__',\n",
       " '__reduce_ex__',\n",
       " '__repr__',\n",
       " '__rmod__',\n",
       " '__rmul__',\n",
       " '__setattr__',\n",
       " '__sizeof__',\n",
       " '__str__',\n",
       " '__subclasshook__',\n",
       " 'capitalize',\n",
       " 'casefold',\n",
       " 'center',\n",
       " 'count',\n",
       " 'encode',\n",
       " 'endswith',\n",
       " 'expandtabs',\n",
       " 'find',\n",
       " 'format',\n",
       " 'format_map',\n",
       " 'index',\n",
       " 'isalnum',\n",
       " 'isalpha',\n",
       " 'isascii',\n",
       " 'isdecimal',\n",
       " 'isdigit',\n",
       " 'isidentifier',\n",
       " 'islower',\n",
       " 'isnumeric',\n",
       " 'isprintable',\n",
       " 'isspace',\n",
       " 'istitle',\n",
       " 'isupper',\n",
       " 'join',\n",
       " 'ljust',\n",
       " 'lower',\n",
       " 'lstrip',\n",
       " 'maketrans',\n",
       " 'partition',\n",
       " 'removeprefix',\n",
       " 'removesuffix',\n",
       " 'replace',\n",
       " 'rfind',\n",
       " 'rindex',\n",
       " 'rjust',\n",
       " 'rpartition',\n",
       " 'rsplit',\n",
       " 'rstrip',\n",
       " 'split',\n",
       " 'splitlines',\n",
       " 'startswith',\n",
       " 'strip',\n",
       " 'swapcase',\n",
       " 'title',\n",
       " 'translate',\n",
       " 'upper',\n",
       " 'zfill']"
      ]
     },
     "execution_count": 16,
     "metadata": {},
     "output_type": "execute_result"
    }
   ],
   "source": [
    "dir(str)\n",
    "# ilgili veri yapısının methotlarını görüntülemek için kulllanırlır."
   ]
  },
  {
   "cell_type": "code",
   "execution_count": 17,
   "id": "1836e1a9-720a-466f-bec4-7fc8589bdee6",
   "metadata": {},
   "outputs": [
    {
     "data": {
      "text/plain": [
       "'EMIRHAN'"
      ]
     },
     "execution_count": 17,
     "metadata": {},
     "output_type": "execute_result"
    }
   ],
   "source": [
    "s.upper()"
   ]
  },
  {
   "cell_type": "code",
   "execution_count": 18,
   "id": "995e4409-a7a5-4498-9075-029fb21e3c4c",
   "metadata": {},
   "outputs": [
    {
     "data": {
      "text/plain": [
       "7"
      ]
     },
     "execution_count": 18,
     "metadata": {},
     "output_type": "execute_result"
    }
   ],
   "source": [
    "len(s)"
   ]
  },
  {
   "cell_type": "code",
   "execution_count": 19,
   "id": "4caa7946-d0a3-44d2-af7f-50d45a51fab3",
   "metadata": {},
   "outputs": [
    {
     "data": {
      "text/plain": [
       "'emirhbn'"
      ]
     },
     "execution_count": 19,
     "metadata": {},
     "output_type": "execute_result"
    }
   ],
   "source": [
    "s.replace(\"a\",\"b\")"
   ]
  },
  {
   "cell_type": "code",
   "execution_count": 20,
   "id": "39df57b6-0a69-4c18-9806-e243404f0431",
   "metadata": {},
   "outputs": [
    {
     "data": {
      "text/plain": [
       "['emirh', 'n']"
      ]
     },
     "execution_count": 20,
     "metadata": {},
     "output_type": "execute_result"
    }
   ],
   "source": [
    "s.split(\"a\")"
   ]
  },
  {
   "cell_type": "code",
   "execution_count": 21,
   "id": "204a191c-77ca-4f91-87a8-69b164120135",
   "metadata": {},
   "outputs": [
    {
     "data": {
      "text/plain": [
       "'asdada'"
      ]
     },
     "execution_count": 21,
     "metadata": {},
     "output_type": "execute_result"
    }
   ],
   "source": [
    "\" asdada \".strip()\n",
    "# kenarlardaki boşlukları siler."
   ]
  },
  {
   "cell_type": "code",
   "execution_count": 22,
   "id": "22e1b9ba-4c95-4748-b3c5-9fe4433b9db4",
   "metadata": {},
   "outputs": [
    {
     "data": {
      "text/plain": [
       "'sdad'"
      ]
     },
     "execution_count": 22,
     "metadata": {},
     "output_type": "execute_result"
    }
   ],
   "source": [
    "\"asdada\".strip(\"a\")"
   ]
  },
  {
   "cell_type": "code",
   "execution_count": 23,
   "id": "253aaea9-07ce-479c-bfbf-3834f105f685",
   "metadata": {},
   "outputs": [
    {
     "data": {
      "text/plain": [
       "'Emirhan'"
      ]
     },
     "execution_count": 23,
     "metadata": {},
     "output_type": "execute_result"
    }
   ],
   "source": [
    "s.capitalize()"
   ]
  },
  {
   "cell_type": "code",
   "execution_count": 24,
   "id": "65353a63-921e-4050-b5c4-ee66967d6c9a",
   "metadata": {},
   "outputs": [
    {
     "data": {
      "text/plain": [
       "False"
      ]
     },
     "execution_count": 24,
     "metadata": {},
     "output_type": "execute_result"
    }
   ],
   "source": [
    "s.startswith(\"E\")"
   ]
  },
  {
   "cell_type": "markdown",
   "id": "f70e69ae-5c17-4270-8b3f-45adbb80dd67",
   "metadata": {},
   "source": [
    "##### Liste(list)\n",
    "1. Değiştirilebilirdir.\n",
    "2. Sıralıdır.\n",
    "3. kapsayıcıdır."
   ]
  },
  {
   "cell_type": "code",
   "execution_count": 25,
   "id": "cdf6ddda-e8ca-4980-9ed9-d13cbcf307be",
   "metadata": {},
   "outputs": [
    {
     "data": {
      "text/plain": [
       "list"
      ]
     },
     "execution_count": 25,
     "metadata": {},
     "output_type": "execute_result"
    }
   ],
   "source": [
    "liste=[1,2,3,4]\n",
    "type(liste)"
   ]
  },
  {
   "cell_type": "code",
   "execution_count": 26,
   "id": "6fa83a3a-b601-4a75-8b12-a5c67d861895",
   "metadata": {},
   "outputs": [
    {
     "data": {
      "text/plain": [
       "'a'"
      ]
     },
     "execution_count": 26,
     "metadata": {},
     "output_type": "execute_result"
    }
   ],
   "source": [
    "liste1=[1,2,3,\"a\",True,[\"a\",2,3]]\n",
    "liste1[5][0]"
   ]
  },
  {
   "cell_type": "code",
   "execution_count": 27,
   "id": "0044b17d-d64c-4949-9431-a51d15fac69d",
   "metadata": {},
   "outputs": [
    {
     "data": {
      "text/plain": [
       "1"
      ]
     },
     "execution_count": 27,
     "metadata": {},
     "output_type": "execute_result"
    }
   ],
   "source": [
    "liste1[5][0]=1\n",
    "liste1[5][0]"
   ]
  },
  {
   "cell_type": "code",
   "execution_count": 28,
   "id": "1339198c-b02c-4efe-92c7-905699f46501",
   "metadata": {},
   "outputs": [
    {
     "data": {
      "text/plain": [
       "['__add__',\n",
       " '__class__',\n",
       " '__class_getitem__',\n",
       " '__contains__',\n",
       " '__delattr__',\n",
       " '__delitem__',\n",
       " '__dir__',\n",
       " '__doc__',\n",
       " '__eq__',\n",
       " '__format__',\n",
       " '__ge__',\n",
       " '__getattribute__',\n",
       " '__getitem__',\n",
       " '__getstate__',\n",
       " '__gt__',\n",
       " '__hash__',\n",
       " '__iadd__',\n",
       " '__imul__',\n",
       " '__init__',\n",
       " '__init_subclass__',\n",
       " '__iter__',\n",
       " '__le__',\n",
       " '__len__',\n",
       " '__lt__',\n",
       " '__mul__',\n",
       " '__ne__',\n",
       " '__new__',\n",
       " '__reduce__',\n",
       " '__reduce_ex__',\n",
       " '__repr__',\n",
       " '__reversed__',\n",
       " '__rmul__',\n",
       " '__setattr__',\n",
       " '__setitem__',\n",
       " '__sizeof__',\n",
       " '__str__',\n",
       " '__subclasshook__',\n",
       " 'append',\n",
       " 'clear',\n",
       " 'copy',\n",
       " 'count',\n",
       " 'extend',\n",
       " 'index',\n",
       " 'insert',\n",
       " 'pop',\n",
       " 'remove',\n",
       " 'reverse',\n",
       " 'sort']"
      ]
     },
     "execution_count": 28,
     "metadata": {},
     "output_type": "execute_result"
    }
   ],
   "source": [
    "dir(list)"
   ]
  },
  {
   "cell_type": "code",
   "execution_count": 29,
   "id": "7b22b3c5-77c2-4eee-ac77-730ac98418a1",
   "metadata": {},
   "outputs": [
    {
     "data": {
      "text/plain": [
       "[1, 2, 3, 'a', True, [1, 2, 3], 'emirhan']"
      ]
     },
     "execution_count": 29,
     "metadata": {},
     "output_type": "execute_result"
    }
   ],
   "source": [
    "liste1.append(\"emirhan\")\n",
    "liste1"
   ]
  },
  {
   "cell_type": "code",
   "execution_count": 30,
   "id": "292e9df9-b1ad-438f-92af-aa2bd75682fa",
   "metadata": {},
   "outputs": [
    {
     "data": {
      "text/plain": [
       "'a'"
      ]
     },
     "execution_count": 30,
     "metadata": {},
     "output_type": "execute_result"
    }
   ],
   "source": [
    "liste1.pop(3)"
   ]
  },
  {
   "cell_type": "code",
   "execution_count": 31,
   "id": "0cdad922-e952-4ea6-beca-57a00dc6f6f7",
   "metadata": {},
   "outputs": [],
   "source": [
    "liste1.insert(2,99)"
   ]
  },
  {
   "cell_type": "code",
   "execution_count": 32,
   "id": "1ceba673-846b-463d-97ad-435c3246654b",
   "metadata": {},
   "outputs": [
    {
     "data": {
      "text/plain": [
       "[1, 2, 99, 3, True, [1, 2, 3], 'emirhan']"
      ]
     },
     "execution_count": 32,
     "metadata": {},
     "output_type": "execute_result"
    }
   ],
   "source": [
    "liste1"
   ]
  },
  {
   "cell_type": "markdown",
   "id": "6be19df9-4b26-4623-8d6c-a975be1f4ebf",
   "metadata": {},
   "source": [
    "##### Dictionary\n",
    "1. Değiştirilebilir.\n",
    "2. Sırasız.(3.7 den sonra sıralı oldu.)\n",
    "3. Kapsayıcıdır."
   ]
  },
  {
   "cell_type": "code",
   "execution_count": 33,
   "id": "bc3a393e-72d9-4d14-930f-34d98ab28472",
   "metadata": {},
   "outputs": [
    {
     "data": {
      "text/plain": [
       "dict"
      ]
     },
     "execution_count": 33,
     "metadata": {},
     "output_type": "execute_result"
    }
   ],
   "source": [
    "dict1={\"ad\":[\"emirhan\",\"zeynep\",\"ali\"],\n",
    "       \"soyad\":[\"tozlu\",\"korkmaz\",\"yılmaz\"]}\n",
    "type(dict1)"
   ]
  },
  {
   "cell_type": "code",
   "execution_count": 34,
   "id": "98db571a-bccc-4d3c-a6d4-46b22993653c",
   "metadata": {},
   "outputs": [
    {
     "data": {
      "text/plain": [
       "['emirhan', 'zeynep', 'ali']"
      ]
     },
     "execution_count": 34,
     "metadata": {},
     "output_type": "execute_result"
    }
   ],
   "source": [
    "dict1[\"ad\"]"
   ]
  },
  {
   "cell_type": "code",
   "execution_count": 35,
   "id": "a8dd7070-e977-466c-912d-ccb2e82484ce",
   "metadata": {},
   "outputs": [
    {
     "data": {
      "text/plain": [
       "{'ad': ['emirhan', 'zeynep', 'buse'], 'soyad': ['tozlu', 'korkmaz', 'yılmaz']}"
      ]
     },
     "execution_count": 35,
     "metadata": {},
     "output_type": "execute_result"
    }
   ],
   "source": [
    "dict1[\"ad\"].append(\"buse\")\n",
    "dict1[\"ad\"].remove(\"ali\")\n",
    "dict1"
   ]
  },
  {
   "cell_type": "code",
   "execution_count": 36,
   "id": "8872aef8-67e4-40c2-9211-9a3e13878304",
   "metadata": {},
   "outputs": [
    {
     "data": {
      "text/plain": [
       "'yılmaz'"
      ]
     },
     "execution_count": 36,
     "metadata": {},
     "output_type": "execute_result"
    }
   ],
   "source": [
    "dict1[\"soyad\"][2]"
   ]
  },
  {
   "cell_type": "code",
   "execution_count": 37,
   "id": "f8e36a68-8c16-4625-a7cc-0cf137669d30",
   "metadata": {},
   "outputs": [
    {
     "data": {
      "text/plain": [
       "True"
      ]
     },
     "execution_count": 37,
     "metadata": {},
     "output_type": "execute_result"
    }
   ],
   "source": [
    "\"ad\" in dict1"
   ]
  },
  {
   "cell_type": "code",
   "execution_count": 40,
   "id": "1ef96615-f52f-4e5f-9251-81e3b1b4b7e3",
   "metadata": {},
   "outputs": [
    {
     "data": {
      "text/plain": [
       "{'ad': ['a', 'b', 'c'], 'soyad': ['tozlu', 'korkmaz', 'yılmaz']}"
      ]
     },
     "execution_count": 40,
     "metadata": {},
     "output_type": "execute_result"
    }
   ],
   "source": [
    "dict1[\"ad\"]=[\"a\",\"b\",\"c\"]\n",
    "dict1"
   ]
  },
  {
   "cell_type": "code",
   "execution_count": 43,
   "id": "71b7c6fb-4c63-41b7-b7b0-b662e451a845",
   "metadata": {},
   "outputs": [
    {
     "data": {
      "text/plain": [
       "dict_keys(['ad', 'soyad'])"
      ]
     },
     "execution_count": 43,
     "metadata": {},
     "output_type": "execute_result"
    }
   ],
   "source": [
    "dict1.keys()"
   ]
  },
  {
   "cell_type": "code",
   "execution_count": 44,
   "id": "c264dff8-47a4-4bed-a6b7-ecba8333c8bf",
   "metadata": {},
   "outputs": [
    {
     "data": {
      "text/plain": [
       "dict_values([['a', 'b', 'c'], ['tozlu', 'korkmaz', 'yılmaz']])"
      ]
     },
     "execution_count": 44,
     "metadata": {},
     "output_type": "execute_result"
    }
   ],
   "source": [
    "dict1.values()"
   ]
  },
  {
   "cell_type": "code",
   "execution_count": 45,
   "id": "09f5f3d7-ceff-43fe-aa2b-d6c3ba76af54",
   "metadata": {},
   "outputs": [
    {
     "data": {
      "text/plain": [
       "dict_items([('ad', ['a', 'b', 'c']), ('soyad', ['tozlu', 'korkmaz', 'yılmaz'])])"
      ]
     },
     "execution_count": 45,
     "metadata": {},
     "output_type": "execute_result"
    }
   ],
   "source": [
    "dict1.items()"
   ]
  },
  {
   "cell_type": "code",
   "execution_count": 46,
   "id": "2ee11155-a1ed-4847-952f-bfc14eaa722d",
   "metadata": {},
   "outputs": [],
   "source": [
    "# update methodu ile yeni bir eleman da ekleyebilirsin olan elemanı güncelleyebilirsin de\n",
    "dict1.update({\"reg\":11})"
   ]
  },
  {
   "cell_type": "code",
   "execution_count": 47,
   "id": "60260a2e-c56b-421a-8469-d26dbaab9a10",
   "metadata": {},
   "outputs": [
    {
     "data": {
      "text/plain": [
       "{'ad': ['a', 'b', 'c'], 'soyad': ['tozlu', 'korkmaz', 'yılmaz'], 'reg': 11}"
      ]
     },
     "execution_count": 47,
     "metadata": {},
     "output_type": "execute_result"
    }
   ],
   "source": [
    "dict1"
   ]
  },
  {
   "cell_type": "markdown",
   "id": "661169b6-dfd4-41f4-ac5b-a328e7c86e3d",
   "metadata": {},
   "source": [
    "##### Demet(Tuple)\n",
    "1. Değiştirilemez\n",
    "2. Sıralıdır\n",
    "3. Değiştirilemez"
   ]
  },
  {
   "cell_type": "code",
   "execution_count": 56,
   "id": "e26a7a95-1f64-404c-b056-4582b57e34f2",
   "metadata": {},
   "outputs": [
    {
     "data": {
      "text/plain": [
       "tuple"
      ]
     },
     "execution_count": 56,
     "metadata": {},
     "output_type": "execute_result"
    }
   ],
   "source": [
    "t=(1,2,3,\"a\",\"ali\")\n",
    "type(t)"
   ]
  },
  {
   "cell_type": "code",
   "execution_count": 57,
   "id": "1b7e708a-3564-4e59-a40e-b38e906a582c",
   "metadata": {},
   "outputs": [
    {
     "name": "stdout",
     "output_type": "stream",
     "text": [
      "[1, 2, 3, 'a', 'ali']\n"
     ]
    },
    {
     "data": {
      "text/plain": [
       "(10, 2, 3, 'a', 'ali')"
      ]
     },
     "execution_count": 57,
     "metadata": {},
     "output_type": "execute_result"
    }
   ],
   "source": [
    "t=list(t)\n",
    "print(t)\n",
    "t[0]=10\n",
    "t=tuple(t)\n",
    "t"
   ]
  },
  {
   "cell_type": "markdown",
   "id": "7efec2e9-1ecd-4ee6-8309-003b8814d3d4",
   "metadata": {},
   "source": [
    "##### Set\n",
    "1. Değiştirilebilir.\n",
    "2. Sırasız + Eşşizdir.\n",
    "3. kapsayıcıdır."
   ]
  },
  {
   "cell_type": "code",
   "execution_count": 58,
   "id": "0b1cd0f2-c02d-479d-9846-04df875b5720",
   "metadata": {},
   "outputs": [
    {
     "data": {
      "text/plain": [
       "set"
      ]
     },
     "execution_count": 58,
     "metadata": {},
     "output_type": "execute_result"
    }
   ],
   "source": [
    "s1={1,2,3,\"ali\",\"abc\"}\n",
    "s2=set([1,2,3,4,5])\n",
    "type(s1)"
   ]
  },
  {
   "cell_type": "code",
   "execution_count": 60,
   "id": "7f4bd17e-ce5b-4466-8c88-d7c0401029bb",
   "metadata": {},
   "outputs": [
    {
     "data": {
      "text/plain": [
       "{'abc', 'ali'}"
      ]
     },
     "execution_count": 60,
     "metadata": {},
     "output_type": "execute_result"
    }
   ],
   "source": [
    "# s1 de olup s2 de olmayanları döndürür.\n",
    "s1.difference(s2)"
   ]
  },
  {
   "cell_type": "code",
   "execution_count": 61,
   "id": "f216cd61-e0db-45a1-8a2d-2746861cfedf",
   "metadata": {},
   "outputs": [
    {
     "data": {
      "text/plain": [
       "{4, 5, 'abc', 'ali'}"
      ]
     },
     "execution_count": 61,
     "metadata": {},
     "output_type": "execute_result"
    }
   ],
   "source": [
    "#ortak olmayanları getirir\n",
    "s1.symmetric_difference(s2)"
   ]
  },
  {
   "cell_type": "code",
   "execution_count": 62,
   "id": "25a93943-b06f-4d29-9128-b60086b528e5",
   "metadata": {},
   "outputs": [
    {
     "data": {
      "text/plain": [
       "{1, 2, 3}"
      ]
     },
     "execution_count": 62,
     "metadata": {},
     "output_type": "execute_result"
    }
   ],
   "source": [
    "# iki kümenin kesişimini bize verecektir.\n",
    "s1.intersection(s2)"
   ]
  },
  {
   "cell_type": "code",
   "execution_count": 63,
   "id": "0f9e7983-6d98-4329-b124-4dae5092f2d4",
   "metadata": {},
   "outputs": [
    {
     "data": {
      "text/plain": [
       "{1, 2, 3, 4, 5, 'abc', 'ali'}"
      ]
     },
     "execution_count": 63,
     "metadata": {},
     "output_type": "execute_result"
    }
   ],
   "source": [
    "s1.union(s2)"
   ]
  },
  {
   "cell_type": "code",
   "execution_count": 65,
   "id": "e957c5f0-26f9-4f05-a571-ff75c425dfac",
   "metadata": {},
   "outputs": [
    {
     "data": {
      "text/plain": [
       "False"
      ]
     },
     "execution_count": 65,
     "metadata": {},
     "output_type": "execute_result"
    }
   ],
   "source": [
    "# iki küme kesişimi boş mu diye sorgular. is olursa başında bool yanıtı alırsın.\n",
    "s1.isdisjoint(s2)"
   ]
  },
  {
   "cell_type": "code",
   "execution_count": 66,
   "id": "5741baaf-dd51-407d-832c-22a06ab9b7e7",
   "metadata": {},
   "outputs": [
    {
     "data": {
      "text/plain": [
       "False"
      ]
     },
     "execution_count": 66,
     "metadata": {},
     "output_type": "execute_result"
    }
   ],
   "source": [
    "s1.issubset(s2)\n",
    "# s1 s2'nin alt kümesi mi onu sorguladıkk."
   ]
  },
  {
   "cell_type": "code",
   "execution_count": null,
   "id": "e8429bc8-af11-4e40-a0a1-5eaf7bf8c0b5",
   "metadata": {},
   "outputs": [],
   "source": []
  }
 ],
 "metadata": {
  "kernelspec": {
   "display_name": "Python 3 (ipykernel)",
   "language": "python",
   "name": "python3"
  },
  "language_info": {
   "codemirror_mode": {
    "name": "ipython",
    "version": 3
   },
   "file_extension": ".py",
   "mimetype": "text/x-python",
   "name": "python",
   "nbconvert_exporter": "python",
   "pygments_lexer": "ipython3",
   "version": "3.12.4"
  }
 },
 "nbformat": 4,
 "nbformat_minor": 5
}
