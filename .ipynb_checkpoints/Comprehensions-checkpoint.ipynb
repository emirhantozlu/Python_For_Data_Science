{
 "cells": [
  {
   "cell_type": "markdown",
   "id": "2e49bf4c-f974-4f52-b1b2-e117753daf2b",
   "metadata": {},
   "source": [
    "# Python For Datascience"
   ]
  },
  {
   "cell_type": "markdown",
   "id": "e1fbbace-e436-486c-8a63-73c205e295eb",
   "metadata": {},
   "source": [
    "### Comprehensions"
   ]
  },
  {
   "cell_type": "code",
   "execution_count": 1,
   "id": "1b1b8cf6-5560-4188-9401-8657712b1802",
   "metadata": {},
   "outputs": [],
   "source": [
    "# List comprehensions"
   ]
  },
  {
   "cell_type": "code",
   "execution_count": 2,
   "id": "e9da5335-48c9-410c-9d74-1971a1d2e9b1",
   "metadata": {},
   "outputs": [
    {
     "name": "stdout",
     "output_type": "stream",
     "text": [
      "1200.0\n",
      "2400.0\n",
      "3600.0\n",
      "4800.0\n",
      "6000.0\n",
      "[1200.0, 2400.0, 7200.0, 9600.0, 12000.0]\n"
     ]
    }
   ],
   "source": [
    "salaries=[1000,2000,3000,4000,5000]\n",
    "\n",
    "def new_salary(x):\n",
    "    return x*20/100+x\n",
    "\n",
    "for salary in salaries:\n",
    "    print(new_salary(salary))\n",
    "\n",
    "null_list=[]\n",
    "\n",
    "for salary in salaries:\n",
    "    null_list.append(new_salary(salary))\n",
    "\n",
    "\n",
    "null_list=[]\n",
    "for salary in salaries:\n",
    "    if salary<3000:\n",
    "        null_list.append(new_salary(salary))\n",
    "    else:\n",
    "        null_list.append(new_salary(salary*2))\n",
    "\n",
    "print(null_list)"
   ]
  },
  {
   "cell_type": "code",
   "execution_count": 3,
   "id": "8415de9a-d564-49ac-bdff-fa1f700077d5",
   "metadata": {},
   "outputs": [
    {
     "data": {
      "text/plain": [
       "[2400.0, 4800.0, 3600.0, 4800.0, 6000.0]"
      ]
     },
     "execution_count": 3,
     "metadata": {},
     "output_type": "execute_result"
    }
   ],
   "source": [
    "# list comprehensions yapısı ile yukarıda yaptığımız işlemleri tek satırda yapabiliriz.\n",
    "\n",
    "[new_salary(salary*2) if salary<3000 else new_salary(salary) for salary in salaries]"
   ]
  },
  {
   "cell_type": "code",
   "execution_count": 4,
   "id": "d8df7b49-bf06-4c3d-bea9-9658cfd55720",
   "metadata": {},
   "outputs": [
    {
     "data": {
      "text/plain": [
       "[2000, 4000, 6000, 8000, 10000]"
      ]
     },
     "execution_count": 4,
     "metadata": {},
     "output_type": "execute_result"
    }
   ],
   "source": [
    "[salary * 2  for salary in salaries]"
   ]
  },
  {
   "cell_type": "code",
   "execution_count": 6,
   "id": "bde34026-013a-494c-8cc0-a14af99e9cae",
   "metadata": {},
   "outputs": [
    {
     "data": {
      "text/plain": [
       "[2000, 4000]"
      ]
     },
     "execution_count": 6,
     "metadata": {},
     "output_type": "execute_result"
    }
   ],
   "source": [
    "# sadece if yapısı kullanıyorsak if yapısı döngünün sağ tarafında kalır.\n",
    "[salary * 2  for salary in salaries if salary<3000]"
   ]
  },
  {
   "cell_type": "code",
   "execution_count": 8,
   "id": "52eca2dd-1ea9-4794-9db9-4862d22fc863",
   "metadata": {},
   "outputs": [
    {
     "data": {
      "text/plain": [
       "[2000, 4000, 1500.0, 2000.0, 2500.0]"
      ]
     },
     "execution_count": 8,
     "metadata": {},
     "output_type": "execute_result"
    }
   ],
   "source": [
    "# eğer if yapısı ile ile birlikte else yapısı da kullanacaksak else ve if yapısı döngünün sol tarafında kalır.\n",
    "[salary * 2 if salary< 3000 else salary * 0.5 for salary in salaries ]"
   ]
  },
  {
   "cell_type": "code",
   "execution_count": 10,
   "id": "82b389c6-cf27-4ef8-b64b-825548356b60",
   "metadata": {},
   "outputs": [
    {
     "data": {
      "text/plain": [
       "[2400.0, 4800.0, 1800.0, 2400.0, 3000.0]"
      ]
     },
     "execution_count": 10,
     "metadata": {},
     "output_type": "execute_result"
    }
   ],
   "source": [
    "# bu şekilde önceden tanımlı bir fonksiyonu da içerisinde kullanabiliriz.\n",
    "[new_salary(salary * 2) if salary< 3000 else new_salary(salary * 0.5) for salary in salaries ]"
   ]
  },
  {
   "cell_type": "code",
   "execution_count": 11,
   "id": "ea1dd1a6-9441-4383-95e6-e1af5aa172d1",
   "metadata": {},
   "outputs": [
    {
     "data": {
      "text/plain": [
       "['EMIRHAN', 'ELIF', 'ali', 'zeynep']"
      ]
     },
     "execution_count": 11,
     "metadata": {},
     "output_type": "execute_result"
    }
   ],
   "source": [
    "basarılı=[\"emirhan\",\"elif\",\"ali\",\"zeynep\"]\n",
    "basarısız=[\"zeynep\",\"ali\"]\n",
    "\n",
    "[student.lower() if student in basarısız else student.upper() for student in basarılı  ]"
   ]
  },
  {
   "cell_type": "code",
   "execution_count": 12,
   "id": "ceea9a48-9d52-4505-91fb-b3252572654a",
   "metadata": {},
   "outputs": [],
   "source": [
    "# Dict comprehensions"
   ]
  },
  {
   "cell_type": "code",
   "execution_count": 14,
   "id": "cd241b68-0c24-47d0-b890-ec4d27b2c12f",
   "metadata": {},
   "outputs": [],
   "source": [
    "dict={\"a\":1,\n",
    "            \"b\":2,\n",
    "            \"c\":3,\n",
    "            \"d\":4\n",
    "           }"
   ]
  },
  {
   "cell_type": "code",
   "execution_count": 15,
   "id": "810816ec-c589-456c-8119-8f159c50b848",
   "metadata": {},
   "outputs": [
    {
     "data": {
      "text/plain": [
       "dict_keys(['a', 'b', 'c', 'd'])"
      ]
     },
     "execution_count": 15,
     "metadata": {},
     "output_type": "execute_result"
    }
   ],
   "source": [
    "dict.keys()"
   ]
  },
  {
   "cell_type": "code",
   "execution_count": 16,
   "id": "79e54df7-724f-4f66-a5dc-405a8ee43820",
   "metadata": {},
   "outputs": [
    {
     "data": {
      "text/plain": [
       "dict_values([1, 2, 3, 4])"
      ]
     },
     "execution_count": 16,
     "metadata": {},
     "output_type": "execute_result"
    }
   ],
   "source": [
    "dict.values()"
   ]
  },
  {
   "cell_type": "code",
   "execution_count": 17,
   "id": "fd5bf1b6-d278-47ef-a5e9-b32f485d6bb3",
   "metadata": {},
   "outputs": [
    {
     "data": {
      "text/plain": [
       "dict_items([('a', 1), ('b', 2), ('c', 3), ('d', 4)])"
      ]
     },
     "execution_count": 17,
     "metadata": {},
     "output_type": "execute_result"
    }
   ],
   "source": [
    "dict.items()"
   ]
  },
  {
   "cell_type": "code",
   "execution_count": 18,
   "id": "71bd1e90-3607-4855-98bf-32d0235f9ba5",
   "metadata": {},
   "outputs": [
    {
     "data": {
      "text/plain": [
       "{'a': 1, 'b': 4, 'c': 9, 'd': 16}"
      ]
     },
     "execution_count": 18,
     "metadata": {},
     "output_type": "execute_result"
    }
   ],
   "source": [
    "# gönderdiğimiz itemlerde key değerleri sabit kalırken value değerlerinin karesini aldık.\n",
    "{k:v**2 for (k,v) in dict.items()}"
   ]
  },
  {
   "cell_type": "code",
   "execution_count": 22,
   "id": "84dfb140-4889-4315-84cd-7f098e20ad15",
   "metadata": {},
   "outputs": [
    {
     "data": {
      "text/plain": [
       "{'A': 1, 'B': 4, 'C': 9, 'D': 16}"
      ]
     },
     "execution_count": 22,
     "metadata": {},
     "output_type": "execute_result"
    }
   ],
   "source": [
    "{k.upper():v**2 for (k,v) in dict.items()}"
   ]
  },
  {
   "cell_type": "code",
   "execution_count": 23,
   "id": "731e5885-e9e0-422b-bda0-724566dbdba3",
   "metadata": {},
   "outputs": [
    {
     "data": {
      "text/plain": [
       "{'A': 1, 'B': 4, 'C': 27, 'D': 16}"
      ]
     },
     "execution_count": 23,
     "metadata": {},
     "output_type": "execute_result"
    }
   ],
   "source": [
    "{k.upper(): v**2 if v % 2 == 0 else v**3 for k, v in dict.items()}\n"
   ]
  },
  {
   "cell_type": "code",
   "execution_count": 24,
   "id": "62a1c7e7-3596-4008-89a4-e7cf1b4595bb",
   "metadata": {},
   "outputs": [],
   "source": [
    "# mülakat sorusu"
   ]
  },
  {
   "cell_type": "code",
   "execution_count": 39,
   "id": "6897f792-6c3a-4dbe-bfbe-1f2de5f6372b",
   "metadata": {},
   "outputs": [
    {
     "name": "stdout",
     "output_type": "stream",
     "text": [
      "{0: 0, 2: 4, 4: 16, 6: 36, 8: 64}\n"
     ]
    }
   ],
   "source": [
    "# elimizde bir liste var . çift sayıların karesi alınıp bir sözlüğe eklenmek isteniyor.\n",
    "# klasik yöntem \n",
    "numbers=range(10)\n",
    "new_dict={}\n",
    "\n",
    "for n in numbers:\n",
    "    if n%2==0:\n",
    "        new_dict[n]=n**2\n",
    "\n",
    "print(new_dict)"
   ]
  },
  {
   "cell_type": "code",
   "execution_count": 40,
   "id": "57507fc2-9ada-48c5-b69b-cf0990e1ed3e",
   "metadata": {},
   "outputs": [
    {
     "data": {
      "text/plain": [
       "{2: 4, 4: 16, 6: 36, 8: 64, 10: 100}"
      ]
     },
     "execution_count": 40,
     "metadata": {},
     "output_type": "execute_result"
    }
   ],
   "source": [
    "# dict comprehensions ile yapılmış .\n",
    "liste=[1,2,3,4,5,6,7,8,9,10]\n",
    "\n",
    "{v: v**2 for v in liste if v % 2 == 0}"
   ]
  },
  {
   "cell_type": "code",
   "execution_count": 41,
   "id": "aefd54bc-6de0-4527-9118-fd8bff0b16d8",
   "metadata": {},
   "outputs": [],
   "source": [
    "# list & dict comprehensions uygulamaları  "
   ]
  },
  {
   "cell_type": "code",
   "execution_count": 1,
   "id": "2fe46a72-0290-4045-86ca-582c7f6fb11c",
   "metadata": {},
   "outputs": [
    {
     "data": {
      "text/plain": [
       "Index(['total', 'speeding', 'alcohol', 'not_distracted', 'no_previous',\n",
       "       'ins_premium', 'ins_losses', 'abbrev'],\n",
       "      dtype='object')"
      ]
     },
     "execution_count": 1,
     "metadata": {},
     "output_type": "execute_result"
    }
   ],
   "source": [
    "# bir veri setindeki değişken isimlerini değiştirmek\n",
    "\n",
    "import seaborn as sns\n",
    "df=sns.load_dataset(\"car_crashes\")\n",
    "df.columns"
   ]
  },
  {
   "cell_type": "code",
   "execution_count": 3,
   "id": "1a9c8fa5-f375-411f-b18e-6bb358246b84",
   "metadata": {},
   "outputs": [
    {
     "name": "stdout",
     "output_type": "stream",
     "text": [
      "TOTAL\n",
      "SPEEDING\n",
      "ALCOHOL\n",
      "NOT_DISTRACTED\n",
      "NO_PREVIOUS\n",
      "INS_PREMIUM\n",
      "INS_LOSSES\n",
      "ABBREV\n"
     ]
    }
   ],
   "source": [
    "for col in df.columns:\n",
    "    print(col.upper())"
   ]
  },
  {
   "cell_type": "code",
   "execution_count": 6,
   "id": "0e5328e2-422f-4338-9aad-bf007ced27c3",
   "metadata": {},
   "outputs": [
    {
     "data": {
      "text/plain": [
       "Index(['TOTAL', 'SPEEDING', 'ALCOHOL', 'NOT_DISTRACTED', 'NO_PREVIOUS',\n",
       "       'INS_PREMIUM', 'INS_LOSSES', 'ABBREV'],\n",
       "      dtype='object')"
      ]
     },
     "execution_count": 6,
     "metadata": {},
     "output_type": "execute_result"
    }
   ],
   "source": [
    "A=[]\n",
    "for col in df.columns:\n",
    "    A.append(col.upper())\n",
    "\n",
    "df.columns=A\n",
    "df.columns"
   ]
  },
  {
   "cell_type": "code",
   "execution_count": 7,
   "id": "1a081c55-2f10-4be6-b0b4-68d4016817d1",
   "metadata": {},
   "outputs": [
    {
     "data": {
      "text/plain": [
       "Index(['TOTAL', 'SPEEDING', 'ALCOHOL', 'NOT_DISTRACTED', 'NO_PREVIOUS',\n",
       "       'INS_PREMIUM', 'INS_LOSSES', 'ABBREV'],\n",
       "      dtype='object')"
      ]
     },
     "execution_count": 7,
     "metadata": {},
     "output_type": "execute_result"
    }
   ],
   "source": [
    "#aynı işlemi listcomprehensions ile yapalım\n",
    "df=sns.load_dataset(\"car_crashes\")\n",
    "\n",
    "df.columns=[col.upper() for col in df.columns]\n",
    "df.columns"
   ]
  },
  {
   "cell_type": "code",
   "execution_count": 8,
   "id": "cf6ebc1d-e0b4-4d44-b5da-9b37021bdf9e",
   "metadata": {},
   "outputs": [],
   "source": [
    "# isminde \"ıns\" olan değişkenlerin başına FLAG diğerlerine NO_FLAG eklemek istiyoruz."
   ]
  },
  {
   "cell_type": "code",
   "execution_count": 9,
   "id": "32193cc5-2b6f-424f-ab03-05124539cef1",
   "metadata": {},
   "outputs": [
    {
     "data": {
      "text/plain": [
       "['INS_PREMIUM', 'INS_LOSSES']"
      ]
     },
     "execution_count": 9,
     "metadata": {},
     "output_type": "execute_result"
    }
   ],
   "source": [
    "# öncelikle veri setimizde hangi değişken isimlerinde \"INS\" kelimesinin olup olmadığını kontrol ettik.\n",
    "[ col for col in df.columns if \"INS\" in col]"
   ]
  },
  {
   "cell_type": "code",
   "execution_count": 11,
   "id": "8e93024f-2ae0-45dd-8222-8aebf4737496",
   "metadata": {},
   "outputs": [
    {
     "data": {
      "text/plain": [
       "['FLAG_INS_PREMIUM', 'FLAG_INS_LOSSES']"
      ]
     },
     "execution_count": 11,
     "metadata": {},
     "output_type": "execute_result"
    }
   ],
   "source": [
    "[ \"FLAG_\" + col for col in df.columns if \"INS\" in col]"
   ]
  },
  {
   "cell_type": "code",
   "execution_count": 14,
   "id": "12516d66-2de7-4b03-9168-1cdc7f5a4887",
   "metadata": {},
   "outputs": [
    {
     "data": {
      "text/plain": [
       "Index(['NO_FLAG_NO_FLAG_TOTAL', 'NO_FLAG_NO_FLAG_SPEEDING',\n",
       "       'NO_FLAG_NO_FLAG_ALCOHOL', 'NO_FLAG_NO_FLAG_NOT_DISTRACTED',\n",
       "       'NO_FLAG_NO_FLAG_NO_PREVIOUS', 'FLAG_FLAG_INS_PREMIUM',\n",
       "       'FLAG_FLAG_INS_LOSSES', 'NO_FLAG_NO_FLAG_ABBREV'],\n",
       "      dtype='object')"
      ]
     },
     "execution_count": 14,
     "metadata": {},
     "output_type": "execute_result"
    }
   ],
   "source": [
    "df.columns=[\"FLAG_\"+ col if \"INS\" in col else \"NO_FLAG_\"+ col for col in df.columns]\n",
    "df.columns"
   ]
  },
  {
   "cell_type": "code",
   "execution_count": 15,
   "id": "285751bc-60e8-44f8-8758-d936b59755ee",
   "metadata": {},
   "outputs": [],
   "source": [
    "# Amaç key değeri string value değeri ise liste olan bir sözlük oluşturmak\n",
    "# Bu işlemi sadece sayısal değişkenler için yapmak istiyoruz."
   ]
  },
  {
   "cell_type": "code",
   "execution_count": 21,
   "id": "3f3d29f3-eb27-4868-8673-cd36a26a1f8d",
   "metadata": {},
   "outputs": [
    {
     "data": {
      "text/plain": [
       "Index(['total', 'speeding', 'alcohol', 'not_distracted', 'no_previous',\n",
       "       'ins_premium', 'ins_losses', 'abbrev'],\n",
       "      dtype='object')"
      ]
     },
     "execution_count": 21,
     "metadata": {},
     "output_type": "execute_result"
    }
   ],
   "source": [
    "df=sns.load_dataset(\"car_crashes\")\n",
    "df.columns"
   ]
  },
  {
   "cell_type": "code",
   "execution_count": 27,
   "id": "7e4a18d5-cdfb-4521-8952-0d90060f901b",
   "metadata": {},
   "outputs": [
    {
     "data": {
      "text/plain": [
       "['total',\n",
       " 'speeding',\n",
       " 'alcohol',\n",
       " 'not_distracted',\n",
       " 'no_previous',\n",
       " 'ins_premium',\n",
       " 'ins_losses']"
      ]
     },
     "execution_count": 27,
     "metadata": {},
     "output_type": "execute_result"
    }
   ],
   "source": [
    "num_cols=[col for col in df.columns if df[col].dtype!=\"O\"] # O ifadesi obnject ifade eder.\n",
    "num_cols"
   ]
  },
  {
   "cell_type": "code",
   "execution_count": 28,
   "id": "729c7c3a-c992-4666-8bd8-689e7f8f8028",
   "metadata": {},
   "outputs": [],
   "source": [
    "soz={}\n",
    "agg_list=[\"mean\",\"min\",\"max\",\"var\"]"
   ]
  },
  {
   "cell_type": "code",
   "execution_count": 29,
   "id": "6d114005-675f-4fb2-ac77-680b6b3fedb6",
   "metadata": {},
   "outputs": [
    {
     "data": {
      "text/plain": [
       "{'total': ['mean', 'min', 'max', 'var'],\n",
       " 'speeding': ['mean', 'min', 'max', 'var'],\n",
       " 'alcohol': ['mean', 'min', 'max', 'var'],\n",
       " 'not_distracted': ['mean', 'min', 'max', 'var'],\n",
       " 'no_previous': ['mean', 'min', 'max', 'var'],\n",
       " 'ins_premium': ['mean', 'min', 'max', 'var'],\n",
       " 'ins_losses': ['mean', 'min', 'max', 'var']}"
      ]
     },
     "execution_count": 29,
     "metadata": {},
     "output_type": "execute_result"
    }
   ],
   "source": [
    "for col in num_cols:\n",
    "    soz[col]=agg_list\n",
    "\n",
    "soz"
   ]
  },
  {
   "cell_type": "code",
   "execution_count": 30,
   "id": "6e80e1f6-520d-4213-b5af-709532a87a32",
   "metadata": {},
   "outputs": [
    {
     "data": {
      "text/plain": [
       "{'total': ['mean', 'min', 'max', 'var'],\n",
       " 'speeding': ['mean', 'min', 'max', 'var'],\n",
       " 'alcohol': ['mean', 'min', 'max', 'var'],\n",
       " 'not_distracted': ['mean', 'min', 'max', 'var'],\n",
       " 'no_previous': ['mean', 'min', 'max', 'var'],\n",
       " 'ins_premium': ['mean', 'min', 'max', 'var'],\n",
       " 'ins_losses': ['mean', 'min', 'max', 'var']}"
      ]
     },
     "execution_count": 30,
     "metadata": {},
     "output_type": "execute_result"
    }
   ],
   "source": [
    "{col : agg_list for col in num_cols}"
   ]
  },
  {
   "cell_type": "code",
   "execution_count": 32,
   "id": "bf189aa2-9dc6-4c57-aad3-04099e7f2bbd",
   "metadata": {},
   "outputs": [
    {
     "data": {
      "text/html": [
       "<div>\n",
       "<style scoped>\n",
       "    .dataframe tbody tr th:only-of-type {\n",
       "        vertical-align: middle;\n",
       "    }\n",
       "\n",
       "    .dataframe tbody tr th {\n",
       "        vertical-align: top;\n",
       "    }\n",
       "\n",
       "    .dataframe thead th {\n",
       "        text-align: right;\n",
       "    }\n",
       "</style>\n",
       "<table border=\"1\" class=\"dataframe\">\n",
       "  <thead>\n",
       "    <tr style=\"text-align: right;\">\n",
       "      <th></th>\n",
       "      <th>total</th>\n",
       "      <th>speeding</th>\n",
       "      <th>alcohol</th>\n",
       "      <th>not_distracted</th>\n",
       "      <th>no_previous</th>\n",
       "      <th>ins_premium</th>\n",
       "      <th>ins_losses</th>\n",
       "    </tr>\n",
       "  </thead>\n",
       "  <tbody>\n",
       "    <tr>\n",
       "      <th>0</th>\n",
       "      <td>18.8</td>\n",
       "      <td>7.332</td>\n",
       "      <td>5.640</td>\n",
       "      <td>18.048</td>\n",
       "      <td>15.040</td>\n",
       "      <td>784.55</td>\n",
       "      <td>145.08</td>\n",
       "    </tr>\n",
       "    <tr>\n",
       "      <th>1</th>\n",
       "      <td>18.1</td>\n",
       "      <td>7.421</td>\n",
       "      <td>4.525</td>\n",
       "      <td>16.290</td>\n",
       "      <td>17.014</td>\n",
       "      <td>1053.48</td>\n",
       "      <td>133.93</td>\n",
       "    </tr>\n",
       "    <tr>\n",
       "      <th>2</th>\n",
       "      <td>18.6</td>\n",
       "      <td>6.510</td>\n",
       "      <td>5.208</td>\n",
       "      <td>15.624</td>\n",
       "      <td>17.856</td>\n",
       "      <td>899.47</td>\n",
       "      <td>110.35</td>\n",
       "    </tr>\n",
       "    <tr>\n",
       "      <th>3</th>\n",
       "      <td>22.4</td>\n",
       "      <td>4.032</td>\n",
       "      <td>5.824</td>\n",
       "      <td>21.056</td>\n",
       "      <td>21.280</td>\n",
       "      <td>827.34</td>\n",
       "      <td>142.39</td>\n",
       "    </tr>\n",
       "    <tr>\n",
       "      <th>4</th>\n",
       "      <td>12.0</td>\n",
       "      <td>4.200</td>\n",
       "      <td>3.360</td>\n",
       "      <td>10.920</td>\n",
       "      <td>10.680</td>\n",
       "      <td>878.41</td>\n",
       "      <td>165.63</td>\n",
       "    </tr>\n",
       "  </tbody>\n",
       "</table>\n",
       "</div>"
      ],
      "text/plain": [
       "   total  speeding  alcohol  not_distracted  no_previous  ins_premium  \\\n",
       "0   18.8     7.332    5.640          18.048       15.040       784.55   \n",
       "1   18.1     7.421    4.525          16.290       17.014      1053.48   \n",
       "2   18.6     6.510    5.208          15.624       17.856       899.47   \n",
       "3   22.4     4.032    5.824          21.056       21.280       827.34   \n",
       "4   12.0     4.200    3.360          10.920       10.680       878.41   \n",
       "\n",
       "   ins_losses  \n",
       "0      145.08  \n",
       "1      133.93  \n",
       "2      110.35  \n",
       "3      142.39  \n",
       "4      165.63  "
      ]
     },
     "execution_count": 32,
     "metadata": {},
     "output_type": "execute_result"
    }
   ],
   "source": [
    "new_dict={col : agg_list for col in num_cols}\n",
    "df[num_cols].head()"
   ]
  },
  {
   "cell_type": "code",
   "execution_count": 33,
   "id": "6482d5d1-df44-40f9-99e9-4e58fba13b11",
   "metadata": {},
   "outputs": [
    {
     "data": {
      "text/html": [
       "<div>\n",
       "<style scoped>\n",
       "    .dataframe tbody tr th:only-of-type {\n",
       "        vertical-align: middle;\n",
       "    }\n",
       "\n",
       "    .dataframe tbody tr th {\n",
       "        vertical-align: top;\n",
       "    }\n",
       "\n",
       "    .dataframe thead th {\n",
       "        text-align: right;\n",
       "    }\n",
       "</style>\n",
       "<table border=\"1\" class=\"dataframe\">\n",
       "  <thead>\n",
       "    <tr style=\"text-align: right;\">\n",
       "      <th></th>\n",
       "      <th>total</th>\n",
       "      <th>speeding</th>\n",
       "      <th>alcohol</th>\n",
       "      <th>not_distracted</th>\n",
       "      <th>no_previous</th>\n",
       "      <th>ins_premium</th>\n",
       "      <th>ins_losses</th>\n",
       "    </tr>\n",
       "  </thead>\n",
       "  <tbody>\n",
       "    <tr>\n",
       "      <th>mean</th>\n",
       "      <td>15.790196</td>\n",
       "      <td>4.998196</td>\n",
       "      <td>4.886784</td>\n",
       "      <td>13.573176</td>\n",
       "      <td>14.004882</td>\n",
       "      <td>886.957647</td>\n",
       "      <td>134.493137</td>\n",
       "    </tr>\n",
       "    <tr>\n",
       "      <th>min</th>\n",
       "      <td>5.900000</td>\n",
       "      <td>1.792000</td>\n",
       "      <td>1.593000</td>\n",
       "      <td>1.760000</td>\n",
       "      <td>5.900000</td>\n",
       "      <td>641.960000</td>\n",
       "      <td>82.750000</td>\n",
       "    </tr>\n",
       "    <tr>\n",
       "      <th>max</th>\n",
       "      <td>23.900000</td>\n",
       "      <td>9.450000</td>\n",
       "      <td>10.038000</td>\n",
       "      <td>23.661000</td>\n",
       "      <td>21.280000</td>\n",
       "      <td>1301.520000</td>\n",
       "      <td>194.780000</td>\n",
       "    </tr>\n",
       "    <tr>\n",
       "      <th>var</th>\n",
       "      <td>16.990902</td>\n",
       "      <td>4.071303</td>\n",
       "      <td>2.989901</td>\n",
       "      <td>20.330874</td>\n",
       "      <td>14.172755</td>\n",
       "      <td>31789.565170</td>\n",
       "      <td>616.823046</td>\n",
       "    </tr>\n",
       "  </tbody>\n",
       "</table>\n",
       "</div>"
      ],
      "text/plain": [
       "          total  speeding    alcohol  not_distracted  no_previous  \\\n",
       "mean  15.790196  4.998196   4.886784       13.573176    14.004882   \n",
       "min    5.900000  1.792000   1.593000        1.760000     5.900000   \n",
       "max   23.900000  9.450000  10.038000       23.661000    21.280000   \n",
       "var   16.990902  4.071303   2.989901       20.330874    14.172755   \n",
       "\n",
       "       ins_premium  ins_losses  \n",
       "mean    886.957647  134.493137  \n",
       "min     641.960000   82.750000  \n",
       "max    1301.520000  194.780000  \n",
       "var   31789.565170  616.823046  "
      ]
     },
     "execution_count": 33,
     "metadata": {},
     "output_type": "execute_result"
    }
   ],
   "source": [
    "df[num_cols].agg(new_dict)"
   ]
  },
  {
   "cell_type": "code",
   "execution_count": null,
   "id": "287645ed-2fe6-45c3-9a02-af8c3bf65675",
   "metadata": {},
   "outputs": [],
   "source": []
  }
 ],
 "metadata": {
  "kernelspec": {
   "display_name": "Python 3 (ipykernel)",
   "language": "python",
   "name": "python3"
  },
  "language_info": {
   "codemirror_mode": {
    "name": "ipython",
    "version": 3
   },
   "file_extension": ".py",
   "mimetype": "text/x-python",
   "name": "python",
   "nbconvert_exporter": "python",
   "pygments_lexer": "ipython3",
   "version": "3.12.4"
  }
 },
 "nbformat": 4,
 "nbformat_minor": 5
}
