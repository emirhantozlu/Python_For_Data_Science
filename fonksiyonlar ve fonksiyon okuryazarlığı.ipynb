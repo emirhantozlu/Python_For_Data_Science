{
 "cells": [
  {
   "cell_type": "markdown",
   "id": "bd57dca4-10df-4c56-b40c-6bfa13aaaf18",
   "metadata": {},
   "source": [
    "# Python For Data Science "
   ]
  },
  {
   "cell_type": "markdown",
   "id": "338564cc-6d72-414b-8085-1433458bfdc3",
   "metadata": {},
   "source": [
    "### Fonksiyonlar Ve Fonksiyon Okuryazarlığı"
   ]
  },
  {
   "cell_type": "markdown",
   "id": "77207840-3bfc-4b82-9d01-05533934388b",
   "metadata": {},
   "source": [
    "##### Fonksiyon Okuryazarlığı"
   ]
  },
  {
   "cell_type": "code",
   "execution_count": 1,
   "id": "1337de60-8787-411f-9ad7-4f5d47a6fcf6",
   "metadata": {},
   "outputs": [
    {
     "data": {
      "text/plain": [
       "\u001b[1;31mSignature:\u001b[0m \u001b[0mprint\u001b[0m\u001b[1;33m(\u001b[0m\u001b[1;33m*\u001b[0m\u001b[0margs\u001b[0m\u001b[1;33m,\u001b[0m \u001b[0msep\u001b[0m\u001b[1;33m=\u001b[0m\u001b[1;34m' '\u001b[0m\u001b[1;33m,\u001b[0m \u001b[0mend\u001b[0m\u001b[1;33m=\u001b[0m\u001b[1;34m'\\n'\u001b[0m\u001b[1;33m,\u001b[0m \u001b[0mfile\u001b[0m\u001b[1;33m=\u001b[0m\u001b[1;32mNone\u001b[0m\u001b[1;33m,\u001b[0m \u001b[0mflush\u001b[0m\u001b[1;33m=\u001b[0m\u001b[1;32mFalse\u001b[0m\u001b[1;33m)\u001b[0m\u001b[1;33m\u001b[0m\u001b[1;33m\u001b[0m\u001b[0m\n",
       "\u001b[1;31mDocstring:\u001b[0m\n",
       "Prints the values to a stream, or to sys.stdout by default.\n",
       "\n",
       "sep\n",
       "  string inserted between values, default a space.\n",
       "end\n",
       "  string appended after the last value, default a newline.\n",
       "file\n",
       "  a file-like object (stream); defaults to the current sys.stdout.\n",
       "flush\n",
       "  whether to forcibly flush the stream.\n",
       "\u001b[1;31mType:\u001b[0m      builtin_function_or_method"
      ]
     },
     "metadata": {},
     "output_type": "display_data"
    }
   ],
   "source": [
    "?print"
   ]
  },
  {
   "cell_type": "code",
   "execution_count": 5,
   "id": "d538fd7a-9d63-450a-9485-11c1cf693cc1",
   "metadata": {},
   "outputs": [
    {
     "name": "stdout",
     "output_type": "stream",
     "text": [
      "Help on built-in function print in module builtins:\n",
      "\n",
      "print(*args, sep=' ', end='\\n', file=None, flush=False)\n",
      "    Prints the values to a stream, or to sys.stdout by default.\n",
      "\n",
      "    sep\n",
      "      string inserted between values, default a space.\n",
      "    end\n",
      "      string appended after the last value, default a newline.\n",
      "    file\n",
      "      a file-like object (stream); defaults to the current sys.stdout.\n",
      "    flush\n",
      "      whether to forcibly flush the stream.\n",
      "\n"
     ]
    }
   ],
   "source": [
    "help(print)"
   ]
  },
  {
   "cell_type": "code",
   "execution_count": 2,
   "id": "789a78c8-464d-4884-abad-931ddc488676",
   "metadata": {},
   "outputs": [
    {
     "name": "stdout",
     "output_type": "stream",
     "text": [
      "a b\n"
     ]
    }
   ],
   "source": [
    "print(\"a\",\"b\")"
   ]
  },
  {
   "cell_type": "code",
   "execution_count": 3,
   "id": "262e0c6c-8ea4-499b-b46e-78e07a6f80cc",
   "metadata": {},
   "outputs": [
    {
     "name": "stdout",
     "output_type": "stream",
     "text": [
      "a--b\n"
     ]
    }
   ],
   "source": [
    "print(\"a\",\"b\", sep=\"--\")"
   ]
  },
  {
   "cell_type": "code",
   "execution_count": 4,
   "id": "4a5e6135-9e95-435a-a360-18cd80a0e6ec",
   "metadata": {},
   "outputs": [],
   "source": [
    "# yukarıda da görüldüğü gibi fonksiyonun argümanlarıyla oynayabiliriz. sep varsayılan olarak boşluktur."
   ]
  },
  {
   "cell_type": "markdown",
   "id": "91b50edf-0f94-4b65-a06e-c8ed572ade1c",
   "metadata": {},
   "source": [
    "##### Fonksiyon Tanımlama"
   ]
  },
  {
   "cell_type": "code",
   "execution_count": 7,
   "id": "e712648b-95d7-4700-9775-55c1568e6ac9",
   "metadata": {},
   "outputs": [
    {
     "name": "stdout",
     "output_type": "stream",
     "text": [
      "10\n"
     ]
    }
   ],
   "source": [
    "# def function_name(parameters/args):\n",
    "#            statements(function body)\n",
    "def ciftyap(a):    \n",
    "    print(a*2)\n",
    "\n",
    "ciftyap(5)"
   ]
  },
  {
   "cell_type": "code",
   "execution_count": 8,
   "id": "0e1d6acd-db3a-422b-9b3d-c27de912ee2e",
   "metadata": {},
   "outputs": [
    {
     "name": "stdout",
     "output_type": "stream",
     "text": [
      "25\n"
     ]
    }
   ],
   "source": [
    "def topla(a,b):\n",
    "    print(a+b)\n",
    "\n",
    "topla(10,15)"
   ]
  },
  {
   "cell_type": "markdown",
   "id": "434c31fb-172a-4ef4-a3e2-67531a476175",
   "metadata": {},
   "source": [
    "##### Docstring yazımı"
   ]
  },
  {
   "cell_type": "code",
   "execution_count": 10,
   "id": "fb4a0ea3-429c-49c6-8b1a-183ae175b628",
   "metadata": {},
   "outputs": [
    {
     "name": "stdout",
     "output_type": "stream",
     "text": [
      "Help on function topla in module __main__:\n",
      "\n",
      "topla(a, b)\n",
      "    Girilen sayıların toplamını bulan fonksiyon.\n",
      "    ---------------------------------------------\n",
      "    parameters/args\n",
      "    ---------------------------------------------\n",
      "    a: int,float\n",
      "        toplanacak ilk sayıdır.\n",
      "    b: int,float\n",
      "        toplanacak ikinci sayıdır.\n",
      "    ----------------------------------------------\n",
      "    returns: int,float\n",
      "\n"
     ]
    }
   ],
   "source": [
    "def topla(a,b):\n",
    "    print(a,b)\n",
    "\n",
    "def topla(a,b):\n",
    "    \"\"\"\n",
    "    Girilen sayıların toplamını bulan fonksiyon.\n",
    "    ---------------------------------------------\n",
    "    parameters/args\n",
    "    ---------------------------------------------\n",
    "    a: int,float\n",
    "        toplanacak ilk sayıdır.\n",
    "    b: int,float\n",
    "        toplanacak ikinci sayıdır.\n",
    "    ----------------------------------------------\n",
    "    returns: int,float\n",
    "\n",
    "    \n",
    "    \"\"\"\n",
    "    print(a,b)\n",
    "\n",
    "help(topla)"
   ]
  },
  {
   "cell_type": "markdown",
   "id": "a8eb353e-e3eb-4003-9335-c929e562c0c9",
   "metadata": {},
   "source": [
    "##### Fonksiyonların Statment Bölümü"
   ]
  },
  {
   "cell_type": "code",
   "execution_count": 12,
   "id": "dbd18315-9611-4465-bb6a-45ec7746d7b8",
   "metadata": {},
   "outputs": [
    {
     "name": "stdout",
     "output_type": "stream",
     "text": [
      "selam\n",
      "merhaba\n",
      "yaptın\n",
      "oldu\n"
     ]
    }
   ],
   "source": [
    "def say_hi():\n",
    "    print(\"selam\")\n",
    "    print(\"merhaba\")\n",
    "\n",
    "say_hi()\n",
    "\n",
    "def say_hii(string):\n",
    "    print(string)\n",
    "    print(\"oldu\")\n",
    "\n",
    "say_hii(\"yaptın\")"
   ]
  },
  {
   "cell_type": "code",
   "execution_count": 14,
   "id": "7e9e2ce6-be33-4100-839c-daef0d1e93fb",
   "metadata": {},
   "outputs": [
    {
     "name": "stdout",
     "output_type": "stream",
     "text": [
      "25.0\n"
     ]
    }
   ],
   "source": [
    "def carpma(a,b):\n",
    "    c=a*b\n",
    "    print(c)\n",
    "\n",
    "carpma(10,2.5)"
   ]
  },
  {
   "cell_type": "code",
   "execution_count": 1,
   "id": "a2b85286-997e-40f9-afb2-dffb7ecadf14",
   "metadata": {},
   "outputs": [
    {
     "name": "stdout",
     "output_type": "stream",
     "text": [
      "[20]\n"
     ]
    }
   ],
   "source": [
    "# Girilen değerleri liste içiine ekleyen fonksiyon.\n",
    "\n",
    "list_1=[]\n",
    "\n",
    "def add_element(a,b):\n",
    "    c=a*b\n",
    "    list_1.append(c)\n",
    "    print(list_1)\n",
    "\n",
    "add_element(10,2)"
   ]
  },
  {
   "cell_type": "code",
   "execution_count": 2,
   "id": "d00e9636-4a47-4e28-b44c-28041ee36c07",
   "metadata": {},
   "outputs": [
    {
     "name": "stdout",
     "output_type": "stream",
     "text": [
      "[20, 36]\n"
     ]
    }
   ],
   "source": [
    "add_element(12,3)"
   ]
  },
  {
   "cell_type": "markdown",
   "id": "7227615e-ee31-4d0f-8f33-b12b2c65cf63",
   "metadata": {},
   "source": [
    "##### Ön Tanımlı Argümanlar/Parametreler"
   ]
  },
  {
   "cell_type": "code",
   "execution_count": 3,
   "id": "7454a9ab-b209-4af1-b137-46e54800b037",
   "metadata": {},
   "outputs": [
    {
     "name": "stdout",
     "output_type": "stream",
     "text": [
      "5.0\n",
      "10.0\n"
     ]
    }
   ],
   "source": [
    "def divide(a,b):\n",
    "    print(a/b)\n",
    "\n",
    "# ön tanımlı argümanlar demek fonksiyone parametre verirken bu şekilde yapmak demektir.\n",
    "def on_divide(x,y=1):\n",
    "    print(x/y)\n",
    "\n",
    "divide(10,2)\n",
    "on_divide(10)"
   ]
  },
  {
   "cell_type": "code",
   "execution_count": 4,
   "id": "3d6060f1-9acd-4b7f-92ef-81713604ca41",
   "metadata": {},
   "outputs": [
    {
     "name": "stdout",
     "output_type": "stream",
     "text": [
      "unuttun\n",
      "merhaba\n"
     ]
    }
   ],
   "source": [
    "# görüldüğü üzere ön tanımlı argüman girildiğinde kullanıcıdan istenen argüman girilmese bile \n",
    "# varsayılan olarak atanan argüman çağrılacaktır.\n",
    "\n",
    "def say__hii(string=\"unuttun\"):\n",
    "    print(string)\n",
    "    print(\"merhaba\")\n",
    "\n",
    "say__hii()"
   ]
  },
  {
   "cell_type": "code",
   "execution_count": 5,
   "id": "c05744c8-728b-4092-a5c3-4834f58d272d",
   "metadata": {},
   "outputs": [
    {
     "data": {
      "text/plain": [
       "(196, 24, 156, 196.15384615384616)"
      ]
     },
     "execution_count": 5,
     "metadata": {},
     "output_type": "execute_result"
    }
   ],
   "source": [
    "def calculate(varm,moisture,charge):\n",
    "    varm*=2\n",
    "    moisture*=2\n",
    "    charge*=2\n",
    "    output=(varm+moisture/charge)\n",
    "    return varm,moisture,charge,output\n",
    "\n",
    "calculate(98,12,78)"
   ]
  },
  {
   "cell_type": "code",
   "execution_count": 6,
   "id": "14ec9984-f127-4e9e-a2bf-ab2aa0e43aa6",
   "metadata": {},
   "outputs": [],
   "source": [
    "# bu şekilde fonksiyonlardan aldığımız çıktıları kaydedebiliriz.\n",
    "varm,moisture,charge,output =calculate(98,12,78) "
   ]
  },
  {
   "cell_type": "code",
   "execution_count": 7,
   "id": "1a70b2fc-0055-4131-8586-823aa5ea86fd",
   "metadata": {},
   "outputs": [
    {
     "data": {
      "text/plain": [
       "196"
      ]
     },
     "execution_count": 7,
     "metadata": {},
     "output_type": "execute_result"
    }
   ],
   "source": [
    "varm"
   ]
  },
  {
   "cell_type": "markdown",
   "id": "aeed161d-8bc6-4b65-ab66-a91df61f3caa",
   "metadata": {},
   "source": [
    "##### Fonksiyon içerisinden Fonksiyon Çağırmak"
   ]
  },
  {
   "cell_type": "code",
   "execution_count": 10,
   "id": "4a10056a-cb5f-4e60-95a9-d0def3e79c4b",
   "metadata": {},
   "outputs": [
    {
     "data": {
      "text/plain": [
       "98"
      ]
     },
     "execution_count": 10,
     "metadata": {},
     "output_type": "execute_result"
    }
   ],
   "source": [
    "# bu şekilde fonksiyon çıktısının tipini değiştirebiliriz.\n",
    "def calculate(varm,moisture,charge):\n",
    "        return int(varm+moisture/charge)\n",
    "\n",
    "calculate(98,12,78)"
   ]
  },
  {
   "cell_type": "code",
   "execution_count": 11,
   "id": "762e1090-5b0c-4f56-b77b-3f7168380f40",
   "metadata": {},
   "outputs": [
    {
     "data": {
      "text/plain": [
       "4.5"
      ]
     },
     "execution_count": 11,
     "metadata": {},
     "output_type": "execute_result"
    }
   ],
   "source": [
    "def standardization(a,p):\n",
    "    return a*10 / 100*p*p\n",
    "\n",
    "standardization(45,1)"
   ]
  },
  {
   "cell_type": "code",
   "execution_count": 13,
   "id": "cb4e2673-edb5-44bf-a7a1-d5499e513187",
   "metadata": {},
   "outputs": [
    {
     "data": {
      "text/plain": [
       "360.0"
      ]
     },
     "execution_count": 13,
     "metadata": {},
     "output_type": "execute_result"
    }
   ],
   "source": [
    "def all_calculation(varm,moisture,charge,p):\n",
    "    a=calculate(varm,moisture,charge)\n",
    "    b=standardization(a,p)\n",
    "    return(b*10)\n",
    "\n",
    "all_calculation(10,2,53,6)"
   ]
  },
  {
   "cell_type": "code",
   "execution_count": null,
   "id": "244d70d9-ca72-4655-860f-c4761e0b6bfb",
   "metadata": {},
   "outputs": [],
   "source": []
  }
 ],
 "metadata": {
  "kernelspec": {
   "display_name": "Python 3 (ipykernel)",
   "language": "python",
   "name": "python3"
  },
  "language_info": {
   "codemirror_mode": {
    "name": "ipython",
    "version": 3
   },
   "file_extension": ".py",
   "mimetype": "text/x-python",
   "name": "python",
   "nbconvert_exporter": "python",
   "pygments_lexer": "ipython3",
   "version": "3.12.4"
  }
 },
 "nbformat": 4,
 "nbformat_minor": 5
}
